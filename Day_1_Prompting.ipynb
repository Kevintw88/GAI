{
  "metadata": {
    "kernelspec": {
      "name": "python3",
      "display_name": "Python 3",
      "language": "python"
    },
    "language_info": {
      "name": "python",
      "version": "3.10.14",
      "mimetype": "text/x-python",
      "codemirror_mode": {
        "name": "ipython",
        "version": 3
      },
      "pygments_lexer": "ipython3",
      "nbconvert_exporter": "python",
      "file_extension": ".py"
    },
    "colab": {
      "toc_visible": true,
      "name": "Day 1 - Prompting",
      "provenance": [],
      "include_colab_link": true
    },
    "kaggle": {
      "accelerator": "none",
      "dataSources": [],
      "dockerImageVersionId": 30786,
      "isInternetEnabled": true,
      "language": "python",
      "sourceType": "notebook",
      "isGpuEnabled": false
    }
  },
  "nbformat_minor": 0,
  "nbformat": 4,
  "cells": [
    {
      "cell_type": "markdown",
      "metadata": {
        "id": "view-in-github",
        "colab_type": "text"
      },
      "source": [
        "<a href=\"https://colab.research.google.com/github/Kevintw88/GAI/blob/main/Day_1_Prompting.ipynb\" target=\"_parent\"><img src=\"https://colab.research.google.com/assets/colab-badge.svg\" alt=\"Open In Colab\"/></a>"
      ]
    },
    {
      "cell_type": "markdown",
      "source": [
        "##### Copyright 2025 Google LLC."
      ],
      "metadata": {
        "id": "jkxRSYjzA1oX"
      }
    },
    {
      "cell_type": "code",
      "source": [
        "# @title Licensed under the Apache License, Version 2.0 (the \"License\");\n",
        "# you may not use this file except in compliance with the License.\n",
        "# You may obtain a copy of the License at\n",
        "#\n",
        "# https://www.apache.org/licenses/LICENSE-2.0\n",
        "#\n",
        "# Unless required by applicable law or agreed to in writing, software\n",
        "# distributed under the License is distributed on an \"AS IS\" BASIS,\n",
        "# WITHOUT WARRANTIES OR CONDITIONS OF ANY KIND, either express or implied.\n",
        "# See the License for the specific language governing permissions and\n",
        "# limitations under the License."
      ],
      "metadata": {
        "cellView": "form",
        "id": "5u5OZ2ShA3BA",
        "jupyter": {
          "source_hidden": true
        },
        "trusted": true,
        "execution": {
          "iopub.status.busy": "2025-03-31T15:03:56.542866Z",
          "iopub.execute_input": "2025-03-31T15:03:56.54325Z",
          "iopub.status.idle": "2025-03-31T15:03:56.54781Z",
          "shell.execute_reply.started": "2025-03-31T15:03:56.543212Z",
          "shell.execute_reply": "2025-03-31T15:03:56.546779Z"
        }
      },
      "outputs": [],
      "execution_count": null
    },
    {
      "cell_type": "markdown",
      "source": [
        "# Day 1 - Prompting\n",
        "\n",
        "Welcome to the Kaggle 5-day Generative AI course!\n",
        "\n",
        "This notebook will show you how to get started with the Gemini API and walk you through some of the example prompts and techniques that you can also read about in the Prompting whitepaper. You don't need to read the whitepaper to use this notebook, but the papers will give you some theoretical context and background to complement this interactive notebook.\n",
        "\n",
        "\n",
        "## Before you begin\n",
        "\n",
        "In this notebook, you'll start exploring prompting using the Python SDK and AI Studio. For some inspiration, you might enjoy exploring some apps that have been built using the Gemini family of models. Here are a few that we like, and we think you will too.\n",
        "\n",
        "* [TextFX](https://textfx.withgoogle.com/) is a suite of AI-powered tools for rappers, made in collaboration with Lupe Fiasco,\n",
        "* [SQL Talk](https://sql-talk-r5gdynozbq-uc.a.run.app/) shows how you can talk directly to a database using the Gemini API,\n",
        "* [NotebookLM](https://notebooklm.google/) uses Gemini models to build your own personal AI research assistant.\n",
        "\n",
        "\n",
        "## For help\n",
        "\n",
        "**Common issues are covered in the [FAQ and troubleshooting guide](https://www.kaggle.com/code/markishere/day-0-troubleshooting-and-faqs).**\n",
        "\n",
        "## New for Gemini 2.0!\n",
        "\n",
        "This course material was first launched in November 2024. The AI and LLM space is moving incredibly fast, so we have made some updates to use the latest models and capabilities.\n",
        "\n",
        "* These codelabs have been updated to use the Gemini 2.0 family of models.\n",
        "* The Python SDK has been updated from `google-generativeai` to the new, unified [`google-genai`](https://pypi.org/project/google-genai) SDK.\n",
        "  * This new SDK works with both the developer Gemini API as well as Google Cloud Vertex AI, and switching is [as simple as changing some fields](https://pypi.org/project/google-genai/#:~:text=.Client%28%29-,API%20Selection,-By%20default%2C%20the).\n",
        "* New model capabilities have been added to the relevant codelabs, such as \"thinking mode\" in this lab.\n",
        "* Day 1 includes a new [Evaluation codelab](https://www.kaggle.com/code/markishere/day-1-evaluation-and-structured-output)."
      ],
      "metadata": {
        "id": "csNPnkuCobmG"
      }
    },
    {
      "cell_type": "markdown",
      "source": [
        "## Get started with Kaggle notebooks\n",
        "\n",
        "If this is your first time using a Kaggle notebook, welcome! You can read about how to use Kaggle notebooks [in the docs](https://www.kaggle.com/docs/notebooks).\n",
        "\n",
        "First, you will need to phone verify your account at kaggle.com/settings.\n",
        "\n",
        "![](https://storage.googleapis.com/kaggle-media/Images/5dgai_0.png)"
      ],
      "metadata": {
        "id": "f00ea7c99e44"
      }
    },
    {
      "cell_type": "markdown",
      "source": [
        "To run this notebook, as well as the others in this course, you will need to make a copy, or fork, the notebook. Look for the `Copy and Edit` button in the top-right, and **click it** to make an editable, private copy of the notebook. It should look like this one:\n",
        "\n",
        "![Copy and Edit button](https://storage.googleapis.com/kaggle-media/Images/5gdai_sc_1.png)\n",
        "\n",
        "Your copy will now have a ▶️ **Run** button next to each code cell that you can press to execute that cell. These notebooks are expected to be run in order from top-to-bottom, but you are encouraged to add new cells, run your own code and explore. If you get stuck, you can try the `Factory reset` option in the `Run` menu, or head back to the original notebook and make a fresh copy.\n",
        "\n",
        "![Run cell button](https://storage.googleapis.com/kaggle-media/Images/5gdai_sc_2.png)\n",
        "\n",
        "### Problems?\n",
        "\n",
        "If you have any problems, head over to the [Kaggle Discord](https://discord.com/invite/kaggle), find the [`#5dgai-q-and-a` channel](https://discord.com/channels/1101210829807956100/1303438695143178251) and ask for help."
      ],
      "metadata": {
        "id": "GaNCC_uCy9J7"
      }
    },
    {
      "cell_type": "markdown",
      "source": [
        "## Get started with the Gemini API\n",
        "\n",
        "All of the exercises in this notebook will use the [Gemini API](https://ai.google.dev/gemini-api/) by way of the [Python SDK](https://pypi.org/project/google-genai/). Each of these prompts can be accessed directly in [Google AI Studio](https://aistudio.google.com/) too, so if you would rather use a web interface and skip the code for this activity, look for the <img src=\"https://ai.google.dev/site-assets/images/marketing/home/icon-ais.png\" style=\"height: 24px\" height=24/> AI Studio link on each prompt."
      ],
      "metadata": {
        "id": "ExkOXcPxtTb5"
      }
    },
    {
      "cell_type": "markdown",
      "source": [
        "Next, you will need to add your API key to your Kaggle Notebook as a Kaggle User Secret.\n",
        "\n",
        "![](https://storage.googleapis.com/kaggle-media/Images/5dgai_1.png)\n",
        "![](https://storage.googleapis.com/kaggle-media/Images/5dgai_2.png)\n",
        "![](https://storage.googleapis.com/kaggle-media/Images/5dgai_3.png)\n",
        "![](https://storage.googleapis.com/kaggle-media/Images/5dgai_4.png)"
      ],
      "metadata": {
        "id": "M7zLy_Fey9J8"
      }
    },
    {
      "cell_type": "markdown",
      "source": [
        "### Install the SDK"
      ],
      "metadata": {
        "id": "UAjUV3BsvFXQ"
      }
    },
    {
      "cell_type": "code",
      "source": [
        "!pip uninstall -qy jupyterlab  # Remove unused packages from Kaggle's base image that conflict\n",
        "!pip install -U -q \"google-genai==1.7.0\""
      ],
      "metadata": {
        "id": "NzwzJFU9LqkJ",
        "trusted": true,
        "execution": {
          "iopub.status.busy": "2025-03-31T15:03:56.550196Z",
          "iopub.execute_input": "2025-03-31T15:03:56.550652Z",
          "iopub.status.idle": "2025-03-31T15:04:14.886034Z",
          "shell.execute_reply.started": "2025-03-31T15:03:56.55058Z",
          "shell.execute_reply": "2025-03-31T15:04:14.884658Z"
        }
      },
      "outputs": [],
      "execution_count": null
    },
    {
      "cell_type": "code",
      "source": [
        "Import the SDK and some helpers for rendering the output."
      ],
      "metadata": {
        "trusted": true,
        "execution": {
          "iopub.status.busy": "2025-03-31T15:04:14.887685Z",
          "iopub.execute_input": "2025-03-31T15:04:14.888035Z",
          "iopub.status.idle": "2025-03-31T15:04:14.898692Z",
          "shell.execute_reply.started": "2025-03-31T15:04:14.887996Z",
          "shell.execute_reply": "2025-03-31T15:04:14.894579Z"
        },
        "id": "FRarlU5_y9J8",
        "outputId": "00372e4f-f58e-431c-90f1-3b5413085197"
      },
      "outputs": [
        {
          "traceback": [
            "\u001b[0;36m  Cell \u001b[0;32mIn[4], line 1\u001b[0;36m\u001b[0m\n\u001b[0;31m    Import the SDK and some helpers for rendering the output.\u001b[0m\n\u001b[0m           ^\u001b[0m\n\u001b[0;31mSyntaxError\u001b[0m\u001b[0;31m:\u001b[0m invalid syntax\n"
          ],
          "ename": "SyntaxError",
          "evalue": "invalid syntax (2112117292.py, line 1)",
          "output_type": "error"
        }
      ],
      "execution_count": null
    },
    {
      "cell_type": "code",
      "source": [
        "from google import genai\n",
        "from google.genai import types\n",
        "\n",
        "from IPython.display import HTML, Markdown, display"
      ],
      "metadata": {
        "id": "5DwxYIRavMST",
        "trusted": true,
        "execution": {
          "iopub.status.busy": "2025-03-31T15:05:04.836895Z",
          "iopub.execute_input": "2025-03-31T15:05:04.837266Z",
          "iopub.status.idle": "2025-03-31T15:05:06.181779Z",
          "shell.execute_reply.started": "2025-03-31T15:05:04.837233Z",
          "shell.execute_reply": "2025-03-31T15:05:06.1807Z"
        }
      },
      "outputs": [],
      "execution_count": null
    },
    {
      "cell_type": "markdown",
      "source": [
        "Set up a retry helper. This allows you to \"Run all\" without worrying about per-minute quota."
      ],
      "metadata": {
        "id": "u6HMYqKIy9J9"
      }
    },
    {
      "cell_type": "code",
      "source": [
        "from google.api_core import retry\n",
        "\n",
        "\n",
        "is_retriable = lambda e: (isinstance(e, genai.errors.APIError) and e.code in {429, 503})\n",
        "\n",
        "genai.models.Models.generate_content = retry.Retry(\n",
        "    predicate=is_retriable)(genai.models.Models.generate_content)"
      ],
      "metadata": {
        "trusted": true,
        "execution": {
          "iopub.status.busy": "2025-03-31T15:05:10.896206Z",
          "iopub.execute_input": "2025-03-31T15:05:10.896781Z",
          "iopub.status.idle": "2025-03-31T15:05:11.077132Z",
          "shell.execute_reply.started": "2025-03-31T15:05:10.896742Z",
          "shell.execute_reply": "2025-03-31T15:05:11.076225Z"
        },
        "id": "0bBg5s1Jy9J9"
      },
      "outputs": [],
      "execution_count": null
    },
    {
      "cell_type": "markdown",
      "source": [
        "### Set up your API key\n",
        "\n",
        "To run the following cell, your API key must be stored it in a [Kaggle secret](https://www.kaggle.com/discussions/product-feedback/114053) named `GOOGLE_API_KEY`.\n",
        "\n",
        "If you don't already have an API key, you can grab one from [AI Studio](https://aistudio.google.com/app/apikey). You can find [detailed instructions in the docs](https://ai.google.dev/gemini-api/docs/api-key).\n",
        "\n",
        "To make the key available through Kaggle secrets, choose `Secrets` from the `Add-ons` menu and follow the instructions to add your key or enable it for this notebook."
      ],
      "metadata": {
        "id": "DNEt2BCOvOJ1"
      }
    },
    {
      "cell_type": "code",
      "source": [
        "from kaggle_secrets import UserSecretsClient\n",
        "\n",
        "GOOGLE_API_KEY = UserSecretsClient().get_secret(\"GOOGLE_API_KEY\")"
      ],
      "metadata": {
        "id": "SHl0bkPCvayd",
        "trusted": true,
        "execution": {
          "iopub.status.busy": "2025-03-31T15:05:17.823364Z",
          "iopub.execute_input": "2025-03-31T15:05:17.824055Z",
          "iopub.status.idle": "2025-03-31T15:05:18.010027Z",
          "shell.execute_reply.started": "2025-03-31T15:05:17.824014Z",
          "shell.execute_reply": "2025-03-31T15:05:18.008886Z"
        }
      },
      "outputs": [],
      "execution_count": null
    },
    {
      "cell_type": "markdown",
      "source": [
        "If you received an error response along the lines of `No user secrets exist for kernel id ...`, then you need to add your API key via `Add-ons`, `Secrets` **and** enable it.\n",
        "\n",
        "![Screenshot of the checkbox to enable GOOGLE_API_KEY secret](https://storage.googleapis.com/kaggle-media/Images/5gdai_sc_3.png)"
      ],
      "metadata": {
        "id": "4e720472fd86"
      }
    },
    {
      "cell_type": "markdown",
      "source": [
        "### Run your first prompt\n",
        "\n",
        "In this step, you will test that your API key is set up correctly by making a request.\n",
        "\n",
        "The Python SDK uses a [`Client` object](https://googleapis.github.io/python-genai/genai.html#genai.client.Client) to make requests to the API. The client lets you control which back-end to use (between the Gemini API and Vertex AI) and handles authentication (the API key).\n",
        "\n",
        "The `gemini-2.0-flash` model has been selected here.\n",
        "\n",
        "**Note**: If you see a `TransportError` on this step, you may need to **🔁 Factory reset** the notebook one time."
      ],
      "metadata": {
        "id": "H_YXCYIKvyZJ"
      }
    },
    {
      "cell_type": "code",
      "source": [
        "client = genai.Client(api_key=GOOGLE_API_KEY)\n",
        "\n",
        "response = client.models.generate_content(\n",
        "    model=\"gemini-2.0-flash\",\n",
        "    contents=\"Explain AI to me like I'm a kid.\")\n",
        "\n",
        "print(response.text)"
      ],
      "metadata": {
        "id": "BV1o0PmcvyJF",
        "trusted": true,
        "execution": {
          "iopub.status.busy": "2025-03-31T15:05:23.26024Z",
          "iopub.execute_input": "2025-03-31T15:05:23.260648Z",
          "iopub.status.idle": "2025-03-31T15:05:25.632726Z",
          "shell.execute_reply.started": "2025-03-31T15:05:23.260593Z",
          "shell.execute_reply": "2025-03-31T15:05:25.631562Z"
        },
        "outputId": "34dc55a5-5e11-46eb-e6b6-1ff449a61b99"
      },
      "outputs": [
        {
          "name": "stdout",
          "text": "Imagine you have a really, really smart parrot, but instead of just copying what you say, it learns from everything it hears and sees. \n\nThat's kind of like AI! \n\nAI stands for Artificial Intelligence, and it means teaching computers to do things that usually only smart people can do.\n\nThink about these things:\n\n*   **Learning:** A baby learns to walk by trying and falling a lot. AI learns from lots and lots of information, like a giant book filled with examples.\n*   **Understanding:** You know that a picture of a dog is a dog. AI can learn to look at pictures and figure out what they are too!\n*   **Solving problems:** When you have a puzzle, you figure out how the pieces fit together. AI can solve problems by looking at lots of possible answers and picking the best one.\n*   **Making decisions:** When you choose what to eat for dinner, you're making a decision. AI can make decisions based on what it has learned.\n\nSo, AI is like giving a computer a super brain so it can learn, understand, solve problems, and make choices, just like you do!\n\nIt helps us do lots of cool things, like:\n\n*   Suggesting videos you might like to watch.\n*   Helping doctors find diseases faster.\n*   Driving cars (with a little help from people, of course!).\n\nIt's still learning and getting better every day! So maybe one day, AI can even help you clean your room!\n\n",
          "output_type": "stream"
        }
      ],
      "execution_count": null
    },
    {
      "cell_type": "markdown",
      "source": [
        "The response often comes back in markdown format, which you can render directly in this notebook."
      ],
      "metadata": {
        "id": "f60ed9d8ae41"
      }
    },
    {
      "cell_type": "code",
      "source": [
        "Markdown(response.text)"
      ],
      "metadata": {
        "id": "c933e5e460a5",
        "trusted": true,
        "execution": {
          "iopub.status.busy": "2025-03-31T15:04:14.909395Z",
          "iopub.status.idle": "2025-03-31T15:04:14.909947Z",
          "shell.execute_reply.started": "2025-03-31T15:04:14.909612Z",
          "shell.execute_reply": "2025-03-31T15:04:14.909668Z"
        }
      },
      "outputs": [],
      "execution_count": null
    },
    {
      "cell_type": "markdown",
      "source": [
        "### Start a chat\n",
        "\n",
        "The previous example uses a single-turn, text-in/text-out structure, but you can also set up a multi-turn chat structure too."
      ],
      "metadata": {
        "id": "byx0pT9ZMW2Q"
      }
    },
    {
      "cell_type": "code",
      "source": [
        "chat = client.chats.create(model='gemini-2.0-flash', history=[])\n",
        "response = chat.send_message('Hello! My name is Zlork.')\n",
        "print(response.text)"
      ],
      "metadata": {
        "id": "lV_S5ZL5MidD",
        "trusted": true,
        "execution": {
          "iopub.status.busy": "2025-03-31T15:05:32.841279Z",
          "iopub.execute_input": "2025-03-31T15:05:32.841653Z",
          "iopub.status.idle": "2025-03-31T15:05:33.42925Z",
          "shell.execute_reply.started": "2025-03-31T15:05:32.841602Z",
          "shell.execute_reply": "2025-03-31T15:05:33.428108Z"
        },
        "outputId": "fe1fdb82-5d35-460e-945f-090d4c29d04e"
      },
      "outputs": [
        {
          "name": "stdout",
          "text": "Greetings, Zlork! It's nice to meet you. How can I help you today?\n\n",
          "output_type": "stream"
        }
      ],
      "execution_count": null
    },
    {
      "cell_type": "code",
      "source": [
        "response = chat.send_message('Can you tell me something interesting about dinosaurs?')\n",
        "print(response.text)"
      ],
      "metadata": {
        "id": "7b0372c3c64a",
        "trusted": true,
        "execution": {
          "iopub.status.busy": "2025-03-31T15:05:36.019232Z",
          "iopub.execute_input": "2025-03-31T15:05:36.020035Z",
          "iopub.status.idle": "2025-03-31T15:05:37.215153Z",
          "shell.execute_reply.started": "2025-03-31T15:05:36.019993Z",
          "shell.execute_reply": "2025-03-31T15:05:37.214065Z"
        },
        "outputId": "d31aeddc-2844-4692-875f-12b13638cbf3"
      },
      "outputs": [
        {
          "name": "stdout",
          "text": "Okay, here's a pretty interesting fact about dinosaurs:\n\n**Did you know that birds are actually direct descendants of theropod dinosaurs, the same group that included fearsome predators like the Velociraptor and Tyrannosaurus Rex?**\n\nThat means that when you see a robin in your garden, you're essentially looking at a modern-day dinosaur! This has been confirmed by numerous fossil discoveries showing increasingly bird-like features in theropods, and by genetic analysis. So, the next time you see a chicken, remember its ancient and terrifying ancestry!\n\n",
          "output_type": "stream"
        }
      ],
      "execution_count": null
    },
    {
      "cell_type": "markdown",
      "source": [
        "While you have the `chat` object alive, the conversation state\n",
        "persists. Confirm that by asking if it knows the user's name."
      ],
      "metadata": {
        "id": "OC_bDSb5y9J-"
      }
    },
    {
      "cell_type": "code",
      "source": [
        "response = chat.send_message('Do you remember what my name is?')\n",
        "print(response.text)"
      ],
      "metadata": {
        "id": "d3f9591392a7",
        "trusted": true,
        "execution": {
          "iopub.status.busy": "2025-03-31T15:05:39.97251Z",
          "iopub.execute_input": "2025-03-31T15:05:39.972917Z",
          "iopub.status.idle": "2025-03-31T15:05:40.388112Z",
          "shell.execute_reply.started": "2025-03-31T15:05:39.97288Z",
          "shell.execute_reply": "2025-03-31T15:05:40.387017Z"
        },
        "outputId": "5cffcab4-9384-45d2-9494-b29c6ad3b7a1"
      },
      "outputs": [
        {
          "name": "stdout",
          "text": "Yes, Zlork! I remember your name is Zlork.\n\n",
          "output_type": "stream"
        }
      ],
      "execution_count": null
    },
    {
      "cell_type": "markdown",
      "source": [
        "### Choose a model\n",
        "\n",
        "The Gemini API provides access to a number of models from the Gemini model family. Read about the available models and their capabilities on the [model overview page](https://ai.google.dev/gemini-api/docs/models/gemini).\n",
        "\n",
        "In this step you'll use the API to list all of the available models."
      ],
      "metadata": {
        "id": "2KAjpr1200sW"
      }
    },
    {
      "cell_type": "code",
      "source": [
        "for model in client.models.list():\n",
        "  print(model.name)"
      ],
      "metadata": {
        "id": "uUUZa2uq2jDm",
        "trusted": true,
        "execution": {
          "iopub.status.busy": "2025-03-31T15:05:43.378476Z",
          "iopub.execute_input": "2025-03-31T15:05:43.379217Z",
          "iopub.status.idle": "2025-03-31T15:05:43.409447Z",
          "shell.execute_reply.started": "2025-03-31T15:05:43.379169Z",
          "shell.execute_reply": "2025-03-31T15:05:43.40809Z"
        },
        "outputId": "a055300e-8131-43ff-f414-3b906dbd73e1"
      },
      "outputs": [
        {
          "name": "stdout",
          "text": "models/chat-bison-001\nmodels/text-bison-001\nmodels/embedding-gecko-001\nmodels/gemini-1.0-pro-vision-latest\nmodels/gemini-pro-vision\nmodels/gemini-1.5-pro-latest\nmodels/gemini-1.5-pro-001\nmodels/gemini-1.5-pro-002\nmodels/gemini-1.5-pro\nmodels/gemini-1.5-flash-latest\nmodels/gemini-1.5-flash-001\nmodels/gemini-1.5-flash-001-tuning\nmodels/gemini-1.5-flash\nmodels/gemini-1.5-flash-002\nmodels/gemini-1.5-flash-8b\nmodels/gemini-1.5-flash-8b-001\nmodels/gemini-1.5-flash-8b-latest\nmodels/gemini-1.5-flash-8b-exp-0827\nmodels/gemini-1.5-flash-8b-exp-0924\nmodels/gemini-2.5-pro-exp-03-25\nmodels/gemini-2.0-flash-exp\nmodels/gemini-2.0-flash\nmodels/gemini-2.0-flash-001\nmodels/gemini-2.0-flash-exp-image-generation\nmodels/gemini-2.0-flash-lite-001\nmodels/gemini-2.0-flash-lite\nmodels/gemini-2.0-flash-lite-preview-02-05\nmodels/gemini-2.0-flash-lite-preview\nmodels/gemini-2.0-pro-exp\nmodels/gemini-2.0-pro-exp-02-05\nmodels/gemini-exp-1206\nmodels/gemini-2.0-flash-thinking-exp-01-21\nmodels/gemini-2.0-flash-thinking-exp\nmodels/gemini-2.0-flash-thinking-exp-1219\nmodels/learnlm-1.5-pro-experimental\nmodels/gemma-3-27b-it\nmodels/embedding-001\nmodels/text-embedding-004\nmodels/gemini-embedding-exp-03-07\nmodels/gemini-embedding-exp\nmodels/aqa\nmodels/imagen-3.0-generate-002\n",
          "output_type": "stream"
        }
      ],
      "execution_count": null
    },
    {
      "cell_type": "markdown",
      "source": [
        "The [`models.list`](https://ai.google.dev/api/models#method:-models.list) response also returns additional information about the model's capabilities, like the token limits and supported parameters."
      ],
      "metadata": {
        "id": "rN49kSI54R1v"
      }
    },
    {
      "cell_type": "code",
      "source": [
        "from pprint import pprint\n",
        "\n",
        "for model in client.models.list():\n",
        "  if model.name == 'models/gemini-2.0-flash':\n",
        "    pprint(model.to_json_dict())\n",
        "    break"
      ],
      "metadata": {
        "id": "k7JJ1K6j4Rl8",
        "trusted": true,
        "execution": {
          "iopub.status.busy": "2025-03-31T15:05:46.585406Z",
          "iopub.execute_input": "2025-03-31T15:05:46.585809Z",
          "iopub.status.idle": "2025-03-31T15:05:46.615481Z",
          "shell.execute_reply.started": "2025-03-31T15:05:46.585771Z",
          "shell.execute_reply": "2025-03-31T15:05:46.614427Z"
        },
        "outputId": "2e05b2cb-d942-407d-f035-5863f6dfce75"
      },
      "outputs": [
        {
          "name": "stdout",
          "text": "{'description': 'Gemini 2.0 Flash',\n 'display_name': 'Gemini 2.0 Flash',\n 'input_token_limit': 1048576,\n 'name': 'models/gemini-2.0-flash',\n 'output_token_limit': 8192,\n 'supported_actions': ['generateContent', 'countTokens'],\n 'tuned_model_info': {},\n 'version': '2.0'}\n",
          "output_type": "stream"
        }
      ],
      "execution_count": null
    },
    {
      "cell_type": "markdown",
      "source": [
        "## Explore generation parameters\n",
        "\n"
      ],
      "metadata": {
        "id": "5rU_UBlZdooM"
      }
    },
    {
      "cell_type": "markdown",
      "source": [
        "### Output length\n",
        "\n",
        "When generating text with an LLM, the output length affects cost and performance. Generating more tokens increases computation, leading to higher energy consumption, latency, and cost.\n",
        "\n",
        "To stop the model from generating tokens past a limit, you can specify the `max_output_tokens` parameter when using the Gemini API. Specifying this parameter does not influence the generation of the output tokens, so the output will not become more stylistically or textually succinct, but it will stop generating tokens once the specified length is reached. Prompt engineering may be required to generate a more complete output for your given limit."
      ],
      "metadata": {
        "id": "G7NfEizeipbW"
      }
    },
    {
      "cell_type": "code",
      "source": [
        "from google.genai import types\n",
        "\n",
        "short_config = types.GenerateContentConfig(max_output_tokens=200)\n",
        "\n",
        "response = client.models.generate_content(\n",
        "    model='gemini-2.0-flash',\n",
        "    config=short_config,\n",
        "    contents='Write a 1000 word essay on the importance of olives in modern society.')\n",
        "\n",
        "print(response.text)"
      ],
      "metadata": {
        "id": "qVf23JsIi9ma",
        "trusted": true,
        "execution": {
          "iopub.status.busy": "2025-03-31T15:05:50.953121Z",
          "iopub.execute_input": "2025-03-31T15:05:50.953501Z",
          "iopub.status.idle": "2025-03-31T15:05:52.38349Z",
          "shell.execute_reply.started": "2025-03-31T15:05:50.953465Z",
          "shell.execute_reply": "2025-03-31T15:05:52.382506Z"
        },
        "outputId": "e6931835-be78-48ad-f066-90bd972b5099"
      },
      "outputs": [
        {
          "name": "stdout",
          "text": "## The Enduring Olive: A Tiny Fruit with a Mighty Impact on Modern Society\n\nThe olive, a humble fruit borne of the *Olea europaea* tree, has held a profound significance for millennia. From its origins in the Mediterranean basin, it has spread across the globe, becoming a staple in diverse cultures and a cornerstone of modern economies. While often relegated to the realm of simple foodstuff, a closer examination reveals the olive’s pervasive influence, permeating culinary arts, health and wellness, cultural traditions, and even economic structures in modern society.\n\nPerhaps the most readily apparent impact of the olive is its role in the culinary world. Olive oil, extracted from the fruit, stands as a culinary cornerstone. Its versatility allows it to be used in countless applications, from frying and grilling to salad dressings and baking. Beyond its functional utility, olive oil imparts a unique flavor profile that elevates dishes, adding richness, depth, and a subtle peppery finish that is highly prized by chefs and home\n",
          "output_type": "stream"
        }
      ],
      "execution_count": null
    },
    {
      "cell_type": "code",
      "source": [
        "response = client.models.generate_content(\n",
        "    model='gemini-2.0-flash',\n",
        "    config=short_config,\n",
        "    contents='Write a short poem on the importance of olives in modern society.')\n",
        "\n",
        "print(response.text)"
      ],
      "metadata": {
        "id": "W-3kR2F5kdMR",
        "trusted": true,
        "execution": {
          "iopub.status.busy": "2025-03-31T15:05:56.957204Z",
          "iopub.execute_input": "2025-03-31T15:05:56.957603Z",
          "iopub.status.idle": "2025-03-31T15:05:57.627413Z",
          "shell.execute_reply.started": "2025-03-31T15:05:56.957567Z",
          "shell.execute_reply": "2025-03-31T15:05:57.626292Z"
        },
        "outputId": "d8849ed0-c2f0-4202-f225-4ff9873646f1"
      },
      "outputs": [
        {
          "name": "stdout",
          "text": "From ancient groves to modern plates,\nAn olive's journey elevates.\nIn oil that gleams, a healthy art,\nOn pizzas bold, a tangy start.\n\nIn tapenade, a vibrant burst,\nA Mediterranean thirst.\nA symbol peace, a simple treat,\nThe olive's presence can't be beat.\n\n",
          "output_type": "stream"
        }
      ],
      "execution_count": null
    },
    {
      "cell_type": "markdown",
      "source": [
        "Explore with your own prompts. Try a prompt with a restrictive output limit and then adjust the prompt to work within that limit."
      ],
      "metadata": {
        "id": "3ZhDSLB6lqqB"
      }
    },
    {
      "cell_type": "markdown",
      "source": [
        "### Temperature\n",
        "\n",
        "Temperature controls the degree of randomness in token selection. Higher temperatures result in a higher number of candidate tokens from which the next output token is selected, and can produce more diverse results, while lower temperatures have the opposite effect, such that a temperature of 0 results in greedy decoding, selecting the most probable token at each step.\n",
        "\n",
        "Temperature doesn't provide any guarantees of randomness, but it can be used to \"nudge\" the output somewhat."
      ],
      "metadata": {
        "id": "alx-WaAvir_9"
      }
    },
    {
      "cell_type": "code",
      "source": [
        "high_temp_config = types.GenerateContentConfig(temperature=2.0)\n",
        "\n",
        "\n",
        "for _ in range(5):\n",
        "  response = client.models.generate_content(\n",
        "      model='gemini-2.0-flash',\n",
        "      config=high_temp_config,\n",
        "      contents='Pick a random colour... (respond in a single word)')\n",
        "\n",
        "  if response.text:\n",
        "    print(response.text, '-' * 25)"
      ],
      "metadata": {
        "id": "SHraGMzqnZqt",
        "trusted": true,
        "execution": {
          "iopub.status.busy": "2025-03-31T15:06:01.405645Z",
          "iopub.execute_input": "2025-03-31T15:06:01.406685Z",
          "iopub.status.idle": "2025-03-31T15:06:02.770857Z",
          "shell.execute_reply.started": "2025-03-31T15:06:01.406606Z",
          "shell.execute_reply": "2025-03-31T15:06:02.769821Z"
        },
        "outputId": "77965a07-0837-4ea3-f43e-82757413f3d4"
      },
      "outputs": [
        {
          "name": "stdout",
          "text": "Orange\n -------------------------\nOrange\n -------------------------\nCerulean.\n -------------------------\nMagenta\n -------------------------\nTeal\n -------------------------\n",
          "output_type": "stream"
        }
      ],
      "execution_count": null
    },
    {
      "cell_type": "markdown",
      "source": [
        "Now try the same prompt with temperature set to zero. Note that the output is not completely deterministic, as other parameters affect token selection, but the results will tend to be more stable."
      ],
      "metadata": {
        "id": "z3J4pCTuof7e"
      }
    },
    {
      "cell_type": "code",
      "source": [
        "low_temp_config = types.GenerateContentConfig(temperature=0.0)\n",
        "\n",
        "for _ in range(5):\n",
        "  response = client.models.generate_content(\n",
        "      model='gemini-2.0-flash',\n",
        "      config=low_temp_config,\n",
        "      contents='Pick a random colour... (respond in a single word)')\n",
        "\n",
        "  if response.text:\n",
        "    print(response.text, '-' * 25)"
      ],
      "metadata": {
        "id": "clymkWv-PfUZ",
        "trusted": true,
        "execution": {
          "iopub.status.busy": "2025-03-31T15:06:06.287129Z",
          "iopub.execute_input": "2025-03-31T15:06:06.287516Z",
          "iopub.status.idle": "2025-03-31T15:06:07.731681Z",
          "shell.execute_reply.started": "2025-03-31T15:06:06.287482Z",
          "shell.execute_reply": "2025-03-31T15:06:07.730707Z"
        },
        "outputId": "19096010-fbb4-4feb-cbb7-762d7fdb7294"
      },
      "outputs": [
        {
          "name": "stdout",
          "text": "Azure\n -------------------------\nAzure\n -------------------------\nAzure\n -------------------------\nAzure\n -------------------------\nAzure\n -------------------------\n",
          "output_type": "stream"
        }
      ],
      "execution_count": null
    },
    {
      "cell_type": "markdown",
      "source": [
        "### Top-P\n",
        "\n",
        "Like temperature, the top-P parameter is also used to control the diversity of the model's output.\n",
        "\n",
        "Top-P defines the probability threshold that, once cumulatively exceeded, tokens stop being selected as candidates. A top-P of 0 is typically equivalent to greedy decoding, and a top-P of 1 typically selects every token in the model's vocabulary.\n",
        "\n",
        "You may also see top-K referenced in LLM literature. Top-K is not configurable in the Gemini 2.0 series of models, but can be changed in older models. Top-K is a positive integer that defines the number of most probable tokens from which to select the output token. A top-K of 1 selects a single token, performing greedy decoding.\n",
        "\n",
        "\n",
        "Run this example a number of times, change the settings and observe the change in output."
      ],
      "metadata": {
        "id": "St5nt3vzitsZ"
      }
    },
    {
      "cell_type": "code",
      "source": [
        "model_config = types.GenerateContentConfig(\n",
        "    # These are the default values for gemini-2.0-flash.\n",
        "    temperature=1.0,\n",
        "    top_p=0.95,\n",
        ")\n",
        "\n",
        "story_prompt = \"You are a creative writer. Write a short story about a cat who goes on an adventure.\"\n",
        "response = client.models.generate_content(\n",
        "    model='gemini-2.0-flash',\n",
        "    config=model_config,\n",
        "    contents=story_prompt)\n",
        "\n",
        "print(response.text)"
      ],
      "metadata": {
        "id": "lPlzpEavUV8F",
        "trusted": true,
        "execution": {
          "iopub.status.busy": "2025-03-31T15:06:15.77652Z",
          "iopub.execute_input": "2025-03-31T15:06:15.776915Z",
          "iopub.status.idle": "2025-03-31T15:06:41.03648Z",
          "shell.execute_reply.started": "2025-03-31T15:06:15.776881Z",
          "shell.execute_reply": "2025-03-31T15:06:41.03542Z"
        },
        "outputId": "9c1e4da8-f2b3-476f-a3b5-3a90e3950857"
      },
      "outputs": [
        {
          "name": "stdout",
          "text": "Jasper wasn't your average tabby. Sure, he enjoyed a sunbeam nap and a good chin scratch, but his heart yearned for more. He was a dreamer, a feline philosopher trapped in a world of kibble and feather wands. One breezy autumn afternoon, Jasper decided he'd had enough. He would have an adventure.\n\nHis escape was as calculated as it was daring. When Mrs. Higgins, his human, went to fetch the newspaper, Jasper slipped through the barely-ajar door, a ginger blur disappearing into the crisp air.\n\nThe world exploded with new scents. The earthy aroma of decaying leaves, the sweet tang of ripe apples from the orchard down the street, the pungent mystery of a squirrel he glimpsed darting up an oak. He followed his nose, a tiny compass pointing him towards the unknown.\n\nHis journey led him to the Whispering Woods, a place Mrs. Higgins warned him about, filled with “scary owls” and “snappy squirrels.” Jasper, of course, was unfazed. He imagined himself a valiant explorer, charting unmapped territories.\n\nThe woods were a labyrinth of towering trees and rustling undergrowth. He stalked through fallen leaves, a hunter in miniature, pretending to stalk a mighty beast. He discovered a babbling brook, where he delicately lapped the cool water, the taste a refreshing contrast to his usual bowl.\n\nHe even encountered the feared squirrels, a chattering mob who initially mocked his city-cat clumsiness. But Jasper, with his inherent feline grace, leaped across a fallen log, silencing their jeers with a display of acrobatic prowess. Impressed, they grudgingly offered him a discarded acorn. Jasper, never one to refuse a free snack, accepted it with a regal nod.\n\nAs twilight painted the sky in hues of orange and purple, a low hoot echoed through the woods. Jasper, though he wouldn't admit it, felt a prickle of fear. He remembered Mrs. Higgins' warnings about the owls. He decided it was time to head home.\n\nFinding his way back was harder than he anticipated. The woods looked different in the fading light, the familiar scents muted. He was hopelessly lost. He meowed, a plaintive sound swallowed by the rustling leaves.\n\nThen, he heard it. A faint, familiar call. \"Jasper? Jasper, where are you, kitty?\" Mrs. Higgins!\n\nHe meowed again, louder this time, and followed the sound of her voice. Soon, he saw her, standing at the edge of the woods, her face etched with worry.\n\nRelief washed over him. He bounded towards her, rubbing against her legs and purring like a miniature engine. Mrs. Higgins scooped him up, showering him with kisses.\n\nBack in the warmth of his home, curled up on his favorite blanket, Jasper reflected on his adventure. He hadn’t slayed any dragons or discovered lost civilizations, but he had faced his fears, explored the unknown, and made, perhaps, a reluctant peace with a squirrel or two.\n\nHe was still a cat who enjoyed sunbeam naps and chin scratches. But now, he was also a cat who knew that adventure could be found just beyond the familiar, and that even a house cat could be a hero, in his own small, furry way. And as he drifted off to sleep, he dreamt of future escapades, ready to explore the world, one paw-step at a time.\n\n",
          "output_type": "stream"
        }
      ],
      "execution_count": null
    },
    {
      "cell_type": "markdown",
      "source": [
        "## Prompting\n",
        "\n",
        "This section contains some prompts from the chapter for you to try out directly in the API. Try changing the text here to see how each prompt performs with different instructions, more examples, or any other changes you can think of."
      ],
      "metadata": {
        "id": "rMrYs1koY6DX"
      }
    },
    {
      "cell_type": "markdown",
      "source": [
        "### Zero-shot\n",
        "\n",
        "Zero-shot prompts are prompts that describe the request for the model directly.\n",
        "\n",
        "<table align=left>\n",
        "  <td>\n",
        "    <a target=\"_blank\" href=\"https://aistudio.google.com/prompts/1gzKKgDHwkAvexG5Up0LMtl1-6jKMKe4g\"><img src=\"https://ai.google.dev/site-assets/images/marketing/home/icon-ais.png\" style=\"height: 24px\" height=24/> Open in AI Studio</a>\n",
        "  </td>\n",
        "</table>"
      ],
      "metadata": {
        "id": "hhj_tQidZJP7"
      }
    },
    {
      "cell_type": "code",
      "source": [
        "model_config = types.GenerateContentConfig(\n",
        "    temperature=0.1,\n",
        "    top_p=1,\n",
        "    max_output_tokens=5,\n",
        ")\n",
        "\n",
        "zero_shot_prompt = \"\"\"Classify movie reviews as POSITIVE, NEUTRAL or NEGATIVE.\n",
        "Review: \"Her\" is a disturbing study revealing the direction\n",
        "humanity is headed if AI is allowed to keep evolving,\n",
        "unchecked. I wish there were more movies like this masterpiece.\n",
        "Sentiment: \"\"\"\n",
        "\n",
        "response = client.models.generate_content(\n",
        "    model='gemini-2.0-flash',\n",
        "    config=model_config,\n",
        "    contents=zero_shot_prompt)\n",
        "\n",
        "print(response.text)"
      ],
      "metadata": {
        "id": "1_t-cwnDZzbH",
        "trusted": true,
        "execution": {
          "iopub.status.busy": "2025-03-31T15:07:19.311334Z",
          "iopub.execute_input": "2025-03-31T15:07:19.311715Z",
          "iopub.status.idle": "2025-03-31T15:07:19.85287Z",
          "shell.execute_reply.started": "2025-03-31T15:07:19.31168Z",
          "shell.execute_reply": "2025-03-31T15:07:19.851721Z"
        },
        "outputId": "57c748a5-1bf1-4f05-ab93-b02841b6b192"
      },
      "outputs": [
        {
          "name": "stdout",
          "text": "POSITIVE\n\n",
          "output_type": "stream"
        }
      ],
      "execution_count": null
    },
    {
      "cell_type": "markdown",
      "source": [
        "#### Enum mode\n",
        "\n",
        "The models are trained to generate text, and while the Gemini 2.0 models are great at following instructions, other models can sometimes produce more text than you may wish for. In the preceding example, the model will output the label, but sometimes it can include a preceding \"Sentiment\" label, and without an output token limit, it may also add explanatory text afterwards. See [this prompt in AI Studio](https://aistudio.google.com/prompts/1gzKKgDHwkAvexG5Up0LMtl1-6jKMKe4g) for an example.\n",
        "\n",
        "The Gemini API has an [Enum mode](https://github.com/google-gemini/cookbook/blob/main/quickstarts/Enum.ipynb) feature that allows you to constrain the output to a fixed set of values."
      ],
      "metadata": {
        "id": "3b5568bdeb11"
      }
    },
    {
      "cell_type": "code",
      "source": [
        "import enum\n",
        "\n",
        "class Sentiment(enum.Enum):\n",
        "    POSITIVE = \"positive\"\n",
        "    NEUTRAL = \"neutral\"\n",
        "    NEGATIVE = \"negative\"\n",
        "\n",
        "\n",
        "response = client.models.generate_content(\n",
        "    model='gemini-2.0-flash',\n",
        "    config=types.GenerateContentConfig(\n",
        "        response_mime_type=\"text/x.enum\",\n",
        "        response_schema=Sentiment\n",
        "    ),\n",
        "    contents=zero_shot_prompt)\n",
        "\n",
        "print(response.text)"
      ],
      "metadata": {
        "id": "ad118a56c598",
        "trusted": true,
        "execution": {
          "iopub.status.busy": "2025-03-31T15:07:25.090282Z",
          "iopub.execute_input": "2025-03-31T15:07:25.09081Z",
          "iopub.status.idle": "2025-03-31T15:07:25.618954Z",
          "shell.execute_reply.started": "2025-03-31T15:07:25.090753Z",
          "shell.execute_reply": "2025-03-31T15:07:25.617914Z"
        },
        "outputId": "3d6efc2d-bf6b-4a1f-ff40-d6ae364bcec8"
      },
      "outputs": [
        {
          "name": "stdout",
          "text": "positive\n",
          "output_type": "stream"
        }
      ],
      "execution_count": null
    },
    {
      "cell_type": "markdown",
      "source": [
        "When using constrained output like an enum, the Python SDK will attempt to convert the model's text response into a Python object automatically. It's stored in the `response.parsed` field."
      ],
      "metadata": {
        "id": "Xb7SPSDGy9KB"
      }
    },
    {
      "cell_type": "code",
      "source": [
        "enum_response = response.parsed\n",
        "print(enum_response)\n",
        "print(type(enum_response))"
      ],
      "metadata": {
        "trusted": true,
        "execution": {
          "iopub.status.busy": "2025-03-31T15:07:32.455478Z",
          "iopub.execute_input": "2025-03-31T15:07:32.455877Z",
          "iopub.status.idle": "2025-03-31T15:07:32.461333Z",
          "shell.execute_reply.started": "2025-03-31T15:07:32.455839Z",
          "shell.execute_reply": "2025-03-31T15:07:32.460156Z"
        },
        "id": "X7NSA44iy9KB",
        "outputId": "b3a181d6-6b5d-4ce6-f42b-f7eaba7c7d6d"
      },
      "outputs": [
        {
          "name": "stdout",
          "text": "Sentiment.POSITIVE\n<enum 'Sentiment'>\n",
          "output_type": "stream"
        }
      ],
      "execution_count": null
    },
    {
      "cell_type": "markdown",
      "source": [
        "### One-shot and few-shot\n",
        "\n",
        "Providing an example of the expected response is known as a \"one-shot\" prompt. When you provide multiple examples, it is a \"few-shot\" prompt.\n",
        "\n",
        "<table align=left>\n",
        "  <td>\n",
        "    <a target=\"_blank\" href=\"https://aistudio.google.com/prompts/1jjWkjUSoMXmLvMJ7IzADr_GxHPJVV2bg\"><img src=\"https://ai.google.dev/site-assets/images/marketing/home/icon-ais.png\" style=\"height: 24px\" height=24/> Open in AI Studio</a>\n",
        "  </td>\n",
        "</table>\n"
      ],
      "metadata": {
        "id": "0udiSwNbv45W"
      }
    },
    {
      "cell_type": "code",
      "source": [
        "few_shot_prompt = \"\"\"Parse a customer's pizza order into valid JSON:\n",
        "\n",
        "EXAMPLE:\n",
        "I want a small pizza with cheese, tomato sauce, and pepperoni.\n",
        "JSON Response:\n",
        "```\n",
        "{\n",
        "\"size\": \"small\",\n",
        "\"type\": \"normal\",\n",
        "\"ingredients\": [\"cheese\", \"tomato sauce\", \"pepperoni\"]\n",
        "}\n",
        "```\n",
        "\n",
        "EXAMPLE:\n",
        "Can I get a large pizza with tomato sauce, basil and mozzarella\n",
        "JSON Response:\n",
        "```\n",
        "{\n",
        "\"size\": \"large\",\n",
        "\"type\": \"normal\",\n",
        "\"ingredients\": [\"tomato sauce\", \"basil\", \"mozzarella\"]\n",
        "}\n",
        "```\n",
        "\n",
        "ORDER:\n",
        "\"\"\"\n",
        "\n",
        "customer_order = \"Give me a large with cheese & pineapple\"\n",
        "\n",
        "response = client.models.generate_content(\n",
        "    model='gemini-2.0-flash',\n",
        "    config=types.GenerateContentConfig(\n",
        "        temperature=0.1,\n",
        "        top_p=1,\n",
        "        max_output_tokens=250,\n",
        "    ),\n",
        "    contents=[few_shot_prompt, customer_order])\n",
        "\n",
        "print(response.text)"
      ],
      "metadata": {
        "id": "hd4mVUukwOKZ",
        "trusted": true,
        "execution": {
          "iopub.status.busy": "2025-03-31T15:07:39.131302Z",
          "iopub.execute_input": "2025-03-31T15:07:39.131715Z",
          "iopub.status.idle": "2025-03-31T15:07:39.680478Z",
          "shell.execute_reply.started": "2025-03-31T15:07:39.131676Z",
          "shell.execute_reply": "2025-03-31T15:07:39.679387Z"
        },
        "outputId": "1077997a-e483-474d-f6fd-8d8a78527ad8"
      },
      "outputs": [
        {
          "name": "stdout",
          "text": "```json\n{\n\"size\": \"large\",\n\"type\": \"normal\",\n\"ingredients\": [\"cheese\", \"pineapple\"]\n}\n```\n\n",
          "output_type": "stream"
        }
      ],
      "execution_count": null
    },
    {
      "cell_type": "markdown",
      "source": [
        "#### JSON mode\n",
        "\n",
        "To provide control over the schema, and to ensure that you only receive JSON (with no other text or markdown), you can use the Gemini API's [JSON mode](https://github.com/google-gemini/cookbook/blob/main/quickstarts/JSON_mode.ipynb). This forces the model to constrain decoding, such that token selection is guided by the supplied schema."
      ],
      "metadata": {
        "id": "021293096f08"
      }
    },
    {
      "cell_type": "code",
      "source": [
        "import typing_extensions as typing\n",
        "\n",
        "class PizzaOrder(typing.TypedDict):\n",
        "    size: str\n",
        "    ingredients: list[str]\n",
        "    type: str\n",
        "\n",
        "\n",
        "response = client.models.generate_content(\n",
        "    model='gemini-2.0-flash',\n",
        "    config=types.GenerateContentConfig(\n",
        "        temperature=0.1,\n",
        "        response_mime_type=\"application/json\",\n",
        "        response_schema=PizzaOrder,\n",
        "    ),\n",
        "    contents=\"Can I have a large dessert pizza with apple and chocolate\")\n",
        "\n",
        "print(response.text)"
      ],
      "metadata": {
        "id": "50fbf0260912",
        "trusted": true,
        "execution": {
          "iopub.status.busy": "2025-03-31T15:07:51.235118Z",
          "iopub.execute_input": "2025-03-31T15:07:51.235475Z",
          "iopub.status.idle": "2025-03-31T15:07:51.953018Z",
          "shell.execute_reply.started": "2025-03-31T15:07:51.235444Z",
          "shell.execute_reply": "2025-03-31T15:07:51.951695Z"
        },
        "outputId": "9f7077ce-7f94-416e-f761-880990c033e0"
      },
      "outputs": [
        {
          "name": "stdout",
          "text": "{\n  \"size\": \"large\",\n  \"ingredients\": [\"apple\", \"chocolate\"],\n  \"type\": \"dessert\"\n}\n",
          "output_type": "stream"
        }
      ],
      "execution_count": null
    },
    {
      "cell_type": "markdown",
      "source": [
        "### Chain of Thought (CoT)\n",
        "\n",
        "Direct prompting on LLMs can return answers quickly and (in terms of output token usage) efficiently, but they can be prone to hallucination. The answer may \"look\" correct (in terms of language and syntax) but is incorrect in terms of factuality and reasoning.\n",
        "\n",
        "Chain-of-Thought prompting is a technique where you instruct the model to output intermediate reasoning steps, and it typically gets better results, especially when combined with few-shot examples. It is worth noting that this technique doesn't completely eliminate hallucinations, and that it tends to cost more to run, due to the increased token count.\n",
        "\n",
        "Models like the Gemini family are trained to be \"chatty\" or \"thoughtful\" and will provide reasoning steps without prompting, so for this simple example you can ask the model to be more direct in the prompt to force a non-reasoning response. Try re-running this step if the model gets lucky and gets the answer correct on the first try."
      ],
      "metadata": {
        "id": "4a93e338e57c"
      }
    },
    {
      "cell_type": "code",
      "source": [
        "prompt = \"\"\"When I was 4 years old, my partner was 3 times my age. Now, I\n",
        "am 20 years old. How old is my partner? Return the answer directly.\"\"\"\n",
        "\n",
        "response = client.models.generate_content(\n",
        "    model='gemini-2.0-flash',\n",
        "    contents=prompt)\n",
        "\n",
        "print(response.text)"
      ],
      "metadata": {
        "id": "5715555db1c1",
        "trusted": true,
        "execution": {
          "iopub.status.busy": "2025-03-31T15:07:57.919118Z",
          "iopub.execute_input": "2025-03-31T15:07:57.919494Z",
          "iopub.status.idle": "2025-03-31T15:07:58.382932Z",
          "shell.execute_reply.started": "2025-03-31T15:07:57.919459Z",
          "shell.execute_reply": "2025-03-31T15:07:58.381892Z"
        },
        "outputId": "817e542c-28e7-46e0-e2f9-6fc19d9907c8"
      },
      "outputs": [
        {
          "name": "stdout",
          "text": "48\n\n",
          "output_type": "stream"
        }
      ],
      "execution_count": null
    },
    {
      "cell_type": "markdown",
      "source": [
        "Now try the same approach, but indicate to the model that it should \"think step by step\"."
      ],
      "metadata": {
        "id": "e12b19677bfd"
      }
    },
    {
      "cell_type": "code",
      "source": [
        "prompt = \"\"\"When I was 4 years old, my partner was 3 times my age. Now,\n",
        "I am 20 years old. How old is my partner? Let's think step by step.\"\"\"\n",
        "\n",
        "response = client.models.generate_content(\n",
        "    model='gemini-2.0-flash',\n",
        "    contents=prompt)\n",
        "\n",
        "Markdown(response.text)"
      ],
      "metadata": {
        "id": "ffd7536a481f",
        "trusted": true,
        "execution": {
          "iopub.status.busy": "2025-03-31T15:08:06.126358Z",
          "iopub.execute_input": "2025-03-31T15:08:06.126792Z",
          "iopub.status.idle": "2025-03-31T15:08:07.005456Z",
          "shell.execute_reply.started": "2025-03-31T15:08:06.126754Z",
          "shell.execute_reply": "2025-03-31T15:08:07.004386Z"
        },
        "outputId": "e7eb5cc7-44a2-479c-c77a-836b50cd2f2f"
      },
      "outputs": [
        {
          "execution_count": 26,
          "output_type": "execute_result",
          "data": {
            "text/plain": "<IPython.core.display.Markdown object>",
            "text/markdown": "Here's how to solve the problem:\n\n*   **Find the age difference:** When you were 4, your partner was 3 times your age, so they were 4 * 3 = 12 years old. The age difference between you and your partner is 12 - 4 = 8 years.\n\n*   **Calculate your partner's current age:** Since the age difference remains the same, your partner is always 8 years older than you. Now that you're 20, your partner is 20 + 8 = 28 years old.\n\n**Answer:** Your partner is 28 years old."
          },
          "metadata": {}
        }
      ],
      "execution_count": null
    },
    {
      "cell_type": "markdown",
      "source": [
        "### ReAct: Reason and act\n",
        "\n",
        "In this example you will run a ReAct prompt directly in the Gemini API and perform the searching steps yourself. As this prompt follows a well-defined structure, there are frameworks available that wrap the prompt into easier-to-use APIs that make tool calls automatically, such as the LangChain example from the \"Prompting\" whitepaper.\n",
        "\n",
        "To try this out with the Wikipedia search engine, check out the [Searching Wikipedia with ReAct](https://github.com/google-gemini/cookbook/blob/main/examples/Search_Wikipedia_using_ReAct.ipynb) cookbook example.\n",
        "\n",
        "\n",
        "> Note: The prompt and in-context examples used here are from [https://github.com/ysymyth/ReAct](https://github.com/ysymyth/ReAct) which is published under an [MIT license](https://opensource.org/licenses/MIT), Copyright (c) 2023 Shunyu Yao.\n",
        "\n",
        "<table align=left>\n",
        "  <td>\n",
        "    <a target=\"_blank\" href=\"https://aistudio.google.com/prompts/18oo63Lwosd-bQ6Ay51uGogB3Wk3H8XMO\"><img src=\"https://ai.google.dev/site-assets/images/marketing/home/icon-ais.png\" style=\"height: 24px\" height=24/> Open in AI Studio</a>\n",
        "  </td>\n",
        "</table>\n"
      ],
      "metadata": {
        "id": "oiLgBQJj0V53"
      }
    },
    {
      "cell_type": "code",
      "source": [
        "model_instructions = \"\"\"\n",
        "Solve a question answering task with interleaving Thought, Action, Observation steps. Thought can reason about the current situation,\n",
        "Observation is understanding relevant information from an Action's output and Action can be one of three types:\n",
        " (1) <search>entity</search>, which searches the exact entity on Wikipedia and returns the first paragraph if it exists. If not, it\n",
        "     will return some similar entities to search and you can try to search the information from those topics.\n",
        " (2) <lookup>keyword</lookup>, which returns the next sentence containing keyword in the current context. This only does exact matches,\n",
        "     so keep your searches short.\n",
        " (3) <finish>answer</finish>, which returns the answer and finishes the task.\n",
        "\"\"\"\n",
        "\n",
        "example1 = \"\"\"Question\n",
        "Musician and satirist Allie Goertz wrote a song about the \"The Simpsons\" character Milhouse, who Matt Groening named after who?\n",
        "\n",
        "Thought 1\n",
        "The question simplifies to \"The Simpsons\" character Milhouse is named after who. I only need to search Milhouse and find who it is named after.\n",
        "\n",
        "Action 1\n",
        "<search>Milhouse</search>\n",
        "\n",
        "Observation 1\n",
        "Milhouse Mussolini Van Houten is a recurring character in the Fox animated television series The Simpsons voiced by Pamela Hayden and created by Matt Groening.\n",
        "\n",
        "Thought 2\n",
        "The paragraph does not tell who Milhouse is named after, maybe I can look up \"named after\".\n",
        "\n",
        "Action 2\n",
        "<lookup>named after</lookup>\n",
        "\n",
        "Observation 2\n",
        "Milhouse was named after U.S. president Richard Nixon, whose middle name was Milhous.\n",
        "\n",
        "Thought 3\n",
        "Milhouse was named after U.S. president Richard Nixon, so the answer is Richard Nixon.\n",
        "\n",
        "Action 3\n",
        "<finish>Richard Nixon</finish>\n",
        "\"\"\"\n",
        "\n",
        "example2 = \"\"\"Question\n",
        "What is the elevation range for the area that the eastern sector of the Colorado orogeny extends into?\n",
        "\n",
        "Thought 1\n",
        "I need to search Colorado orogeny, find the area that the eastern sector of the Colorado orogeny extends into, then find the elevation range of the area.\n",
        "\n",
        "Action 1\n",
        "<search>Colorado orogeny</search>\n",
        "\n",
        "Observation 1\n",
        "The Colorado orogeny was an episode of mountain building (an orogeny) in Colorado and surrounding areas.\n",
        "\n",
        "Thought 2\n",
        "It does not mention the eastern sector. So I need to look up eastern sector.\n",
        "\n",
        "Action 2\n",
        "<lookup>eastern sector</lookup>\n",
        "\n",
        "Observation 2\n",
        "The eastern sector extends into the High Plains and is called the Central Plains orogeny.\n",
        "\n",
        "Thought 3\n",
        "The eastern sector of Colorado orogeny extends into the High Plains. So I need to search High Plains and find its elevation range.\n",
        "\n",
        "Action 3\n",
        "<search>High Plains</search>\n",
        "\n",
        "Observation 3\n",
        "High Plains refers to one of two distinct land regions\n",
        "\n",
        "Thought 4\n",
        "I need to instead search High Plains (United States).\n",
        "\n",
        "Action 4\n",
        "<search>High Plains (United States)</search>\n",
        "\n",
        "Observation 4\n",
        "The High Plains are a subregion of the Great Plains. From east to west, the High Plains rise in elevation from around 1,800 to 7,000 ft (550 to 2,130m).\n",
        "\n",
        "Thought 5\n",
        "High Plains rise in elevation from around 1,800 to 7,000 ft, so the answer is 1,800 to 7,000 ft.\n",
        "\n",
        "Action 5\n",
        "<finish>1,800 to 7,000 ft</finish>\n",
        "\"\"\"\n",
        "\n",
        "# Come up with more examples yourself, or take a look through https://github.com/ysymyth/ReAct/"
      ],
      "metadata": {
        "id": "cBgyNJ5z0VSs",
        "trusted": true,
        "execution": {
          "iopub.status.busy": "2025-03-31T15:08:29.731293Z",
          "iopub.execute_input": "2025-03-31T15:08:29.731701Z",
          "iopub.status.idle": "2025-03-31T15:08:29.738526Z",
          "shell.execute_reply.started": "2025-03-31T15:08:29.73166Z",
          "shell.execute_reply": "2025-03-31T15:08:29.73737Z"
        }
      },
      "outputs": [],
      "execution_count": null
    },
    {
      "cell_type": "markdown",
      "source": [
        "To capture a single step at a time, while ignoring any hallucinated Observation steps, you will use `stop_sequences` to end the generation process. The steps are `Thought`, `Action`, `Observation`, in that order."
      ],
      "metadata": {
        "id": "C3wbfstjTgey"
      }
    },
    {
      "cell_type": "code",
      "source": [
        "question = \"\"\"Question\n",
        "Who was the youngest author listed on the transformers NLP paper?\n",
        "\"\"\"\n",
        "\n",
        "# You will perform the Action; so generate up to, but not including, the Observation.\n",
        "react_config = types.GenerateContentConfig(\n",
        "    stop_sequences=[\"\\nObservation\"],\n",
        "    system_instruction=model_instructions + example1 + example2,\n",
        ")\n",
        "\n",
        "# Create a chat that has the model instructions and examples pre-seeded.\n",
        "react_chat = client.chats.create(\n",
        "    model='gemini-2.0-flash',\n",
        "    config=react_config,\n",
        ")\n",
        "\n",
        "resp = react_chat.send_message(question)\n",
        "print(resp.text)"
      ],
      "metadata": {
        "id": "8mxrXRkRTdXm",
        "trusted": true,
        "execution": {
          "iopub.status.busy": "2025-03-31T15:09:57.21998Z",
          "iopub.execute_input": "2025-03-31T15:09:57.220339Z",
          "iopub.status.idle": "2025-03-31T15:09:57.879038Z",
          "shell.execute_reply.started": "2025-03-31T15:09:57.220308Z",
          "shell.execute_reply": "2025-03-31T15:09:57.878014Z"
        },
        "outputId": "62a7dd7b-a58e-410d-bf92-e1180b80e077"
      },
      "outputs": [
        {
          "name": "stdout",
          "text": "Thought 1\nI need to find the transformers NLP paper and then identify the youngest author listed on the paper.\n\nAction 1\n<search>transformers NLP paper</search>\n\n",
          "output_type": "stream"
        }
      ],
      "execution_count": null
    },
    {
      "cell_type": "markdown",
      "source": [
        "Now you can perform this research yourself and supply it back to the model."
      ],
      "metadata": {
        "id": "aW2PIdLbVv3l"
      }
    },
    {
      "cell_type": "code",
      "source": [
        "observation = \"\"\"Observation 1\n",
        "[1706.03762] Attention Is All You Need\n",
        "Ashish Vaswani, Noam Shazeer, Niki Parmar, Jakob Uszkoreit, Llion Jones, Aidan N. Gomez, Lukasz Kaiser, Illia Polosukhin\n",
        "We propose a new simple network architecture, the Transformer, based solely on attention mechanisms, dispensing with recurrence and convolutions entirely.\n",
        "\"\"\"\n",
        "resp = react_chat.send_message(observation)\n",
        "print(resp.text)"
      ],
      "metadata": {
        "id": "mLMc0DZaV9g2",
        "trusted": true,
        "execution": {
          "iopub.status.busy": "2025-03-31T15:10:04.448875Z",
          "iopub.execute_input": "2025-03-31T15:10:04.449226Z",
          "iopub.status.idle": "2025-03-31T15:10:05.328695Z",
          "shell.execute_reply.started": "2025-03-31T15:10:04.449194Z",
          "shell.execute_reply": "2025-03-31T15:10:05.327378Z"
        },
        "outputId": "4ef197da-617a-4f8a-d4fb-db11f714360d"
      },
      "outputs": [
        {
          "name": "stdout",
          "text": "Thought 2\nThe paper lists the following authors: Ashish Vaswani, Noam Shazeer, Niki Parmar, Jakob Uszkoreit, Llion Jones, Aidan N. Gomez, Lukasz Kaiser, Illia Polosukhin. I need to find the ages of each of these authors. I will start with the first author.\n\nAction 2\n<search>Ashish Vaswani age</search>\n\n",
          "output_type": "stream"
        }
      ],
      "execution_count": null
    },
    {
      "cell_type": "markdown",
      "source": [
        "This process repeats until the `<finish>` action is reached. You can continue running this yourself if you like, or try the [Wikipedia example](https://github.com/google-gemini/cookbook/blob/main/examples/Search_Wikipedia_using_ReAct.ipynb) to see a fully automated ReAct system at work."
      ],
      "metadata": {
        "id": "bo0tzf4nX6dA"
      }
    },
    {
      "cell_type": "markdown",
      "source": [
        "## Thinking mode\n",
        "\n",
        "The experiemental Gemini Flash 2.0 \"Thinking\" model has been trained to generate the \"thinking process\" the model goes through as part of its response. As a result, the Flash Thinking model is capable of stronger reasoning capabilities in its responses.\n",
        "\n",
        "Using a \"thinking mode\" model can provide you with high-quality responses without needing specialised prompting like the previous approaches. One reason this technique is effective is that you induce the model to generate relevant information (\"brainstorming\", or \"thoughts\") that is then used as part of the context in which the final response is generated.\n",
        "\n",
        "Note that when you use the API, you get the final response from the model, but the thoughts are not captured. To see the intermediate thoughts, try out [the thinking mode model in AI Studio](https://aistudio.google.com/prompts/new_chat?model=gemini-2.0-flash-thinking-exp-01-21).\n",
        "\n",
        "<table align=left>\n",
        "  <td>\n",
        "    <a target=\"_blank\" href=\"https://aistudio.google.com/prompts/1Z991SV7lZZZqioOiqIUPv9a9ix-ws4zk\"><img src=\"https://ai.google.dev/site-assets/images/marketing/home/icon-ais.png\" style=\"height: 24px\" height=24/> Open in AI Studio</a>\n",
        "  </td>\n",
        "</table>"
      ],
      "metadata": {
        "id": "_ZwGxyaGy9KD"
      }
    },
    {
      "cell_type": "code",
      "source": [
        "import io\n",
        "from IPython.display import Markdown, clear_output\n",
        "\n",
        "\n",
        "response = client.models.generate_content_stream(\n",
        "    model='gemini-2.0-flash-thinking-exp',\n",
        "    contents='Who was the youngest author listed on the transformers NLP paper?',\n",
        ")\n",
        "\n",
        "buf = io.StringIO()\n",
        "for chunk in response:\n",
        "    buf.write(chunk.text)\n",
        "    # Display the response as it is streamed\n",
        "    print(chunk.text, end='')\n",
        "\n",
        "# And then render the finished response as formatted markdown.\n",
        "clear_output()\n",
        "Markdown(buf.getvalue())"
      ],
      "metadata": {
        "trusted": true,
        "execution": {
          "iopub.status.busy": "2025-03-31T15:10:12.068024Z",
          "iopub.execute_input": "2025-03-31T15:10:12.068367Z",
          "iopub.status.idle": "2025-03-31T15:10:18.170879Z",
          "shell.execute_reply.started": "2025-03-31T15:10:12.068337Z",
          "shell.execute_reply": "2025-03-31T15:10:18.169685Z"
        },
        "id": "06a4VHjIy9KD",
        "outputId": "9a339d3f-ee68-4adc-c08d-e0a0d114a102"
      },
      "outputs": [
        {
          "execution_count": 30,
          "output_type": "execute_result",
          "data": {
            "text/plain": "<IPython.core.display.Markdown object>",
            "text/markdown": "The youngest author listed on the original \"Attention is All You Need\" paper (the Transformers paper) is likely **Aidan N. Gomez**.\n\nHere's why:\n\n* **Aidan N. Gomez** was a PhD student at the University of Toronto at the time of the paper's publication in 2017.  PhD students are generally younger than established researchers.\n* The other authors were affiliated with Google Brain, which typically employs more senior researchers and engineers.\n\nWhile we don't have the exact birthdates of all authors to definitively confirm age, being a PhD student while the others are research scientists at a major institution strongly suggests Aidan N. Gomez was the youngest among them.\n\nTherefore, based on the available information and typical career trajectories, **Aidan N. Gomez** is the most likely candidate for the youngest author on the Transformers paper.\n\nThe authors of the \"Attention is All You Need\" paper are:\n\n* **Ashish Vaswani**\n* **Noam Shazeer**\n* **Niki Parmar**\n* **Jakob Uszkoreit**\n* **Llion Jones**\n* **Aidan N. Gomez**\n* **Łukasz Kaiser**\n* **Illia Polosukhin**"
          },
          "metadata": {}
        }
      ],
      "execution_count": null
    },
    {
      "cell_type": "markdown",
      "source": [
        "## Code prompting"
      ],
      "metadata": {
        "id": "jPiZ_eIIaVPt"
      }
    },
    {
      "cell_type": "markdown",
      "source": [
        "### Generating code\n",
        "\n",
        "The Gemini family of models can be used to generate code, configuration and scripts. Generating code can be helpful when learning to code, learning a new language or for rapidly generating a first draft.\n",
        "\n",
        "It's important to be aware that since LLMs can make mistakes, and can repeat training data, it's essential to read and test your code first, and comply with any relevant licenses.\n",
        "\n",
        "<table align=left>\n",
        "  <td>\n",
        "    <a target=\"_blank\" href=\"https://aistudio.google.com/prompts/1YX71JGtzDjXQkgdes8bP6i3oH5lCRKxv\"><img src=\"https://ai.google.dev/site-assets/images/marketing/home/icon-ais.png\" style=\"height: 24px\" height=24/> Open in AI Studio</a>\n",
        "  </td>\n",
        "</table>"
      ],
      "metadata": {
        "id": "ZinKamwXeR6C"
      }
    },
    {
      "cell_type": "code",
      "source": [
        "# The Gemini models love to talk, so it helps to specify they stick to the code if that\n",
        "# is all that you want.\n",
        "code_prompt = \"\"\"\n",
        "Write a Python function to calculate the factorial of a number. No explanation, provide only the code.\n",
        "\"\"\"\n",
        "\n",
        "response = client.models.generate_content(\n",
        "    model='gemini-2.0-flash',\n",
        "    config=types.GenerateContentConfig(\n",
        "        temperature=1,\n",
        "        top_p=1,\n",
        "        max_output_tokens=1024,\n",
        "    ),\n",
        "    contents=code_prompt)\n",
        "\n",
        "Markdown(response.text)"
      ],
      "metadata": {
        "id": "fOQP9pqmeUO1",
        "trusted": true,
        "execution": {
          "iopub.status.busy": "2025-03-31T15:10:43.80981Z",
          "iopub.execute_input": "2025-03-31T15:10:43.81084Z",
          "iopub.status.idle": "2025-03-31T15:10:44.78589Z",
          "shell.execute_reply.started": "2025-03-31T15:10:43.810764Z",
          "shell.execute_reply": "2025-03-31T15:10:44.78491Z"
        },
        "outputId": "cacba0c2-1893-4f1e-dcd2-dbbef12b8383"
      },
      "outputs": [
        {
          "execution_count": 31,
          "output_type": "execute_result",
          "data": {
            "text/plain": "<IPython.core.display.Markdown object>",
            "text/markdown": "```python\ndef factorial(n):\n  \"\"\"\n  Calculates the factorial of a non-negative integer.\n\n  Args:\n    n: A non-negative integer.\n\n  Returns:\n    The factorial of n, or 1 if n is 0.\n    Returns None if n is negative.\n  \"\"\"\n  if n < 0:\n    return None\n  elif n == 0:\n    return 1\n  else:\n    result = 1\n    for i in range(1, n + 1):\n      result *= i\n    return result\n```"
          },
          "metadata": {}
        }
      ],
      "execution_count": null
    },
    {
      "cell_type": "markdown",
      "source": [
        "### Code execution\n",
        "\n",
        "The Gemini API can automatically run generated code too, and will return the output.\n",
        "\n",
        "<table align=left>\n",
        "  <td>\n",
        "    <a target=\"_blank\" href=\"https://aistudio.google.com/prompts/11veFr_VYEwBWcLkhNLr-maCG0G8sS_7Z\"><img src=\"https://ai.google.dev/site-assets/images/marketing/home/icon-ais.png\" style=\"height: 24px\" height=24/> Open in AI Studio</a>\n",
        "  </td>\n",
        "</table>"
      ],
      "metadata": {
        "id": "wlBMWSFhgVRQ"
      }
    },
    {
      "cell_type": "code",
      "source": [
        "from pprint import pprint\n",
        "\n",
        "config = types.GenerateContentConfig(\n",
        "    tools=[types.Tool(code_execution=types.ToolCodeExecution())],\n",
        ")\n",
        "\n",
        "code_exec_prompt = \"\"\"\n",
        "Generate the first 14 odd prime numbers, then calculate their sum.\n",
        "\"\"\"\n",
        "\n",
        "response = client.models.generate_content(\n",
        "    model='gemini-2.0-flash',\n",
        "    config=config,\n",
        "    contents=code_exec_prompt)\n",
        "\n",
        "for part in response.candidates[0].content.parts:\n",
        "  pprint(part.to_json_dict())\n",
        "  print(\"-----\")"
      ],
      "metadata": {
        "id": "jT3OfWYfhjRL",
        "trusted": true,
        "execution": {
          "iopub.status.busy": "2025-03-31T15:10:56.699314Z",
          "iopub.execute_input": "2025-03-31T15:10:56.699717Z",
          "iopub.status.idle": "2025-03-31T15:10:58.534073Z",
          "shell.execute_reply.started": "2025-03-31T15:10:56.699681Z",
          "shell.execute_reply": "2025-03-31T15:10:58.533132Z"
        },
        "outputId": "440ccd14-c1db-4eac-b451-28f4ec8d4f11"
      },
      "outputs": [
        {
          "name": "stdout",
          "text": "{'text': 'Okay, I can do that. First, I need to generate the first 14 odd '\n         'prime numbers. Then, I will calculate their sum.\\n'\n         '\\n'\n         'The first few prime numbers are 2, 3, 5, 7, 11, 13, and so on. Since '\n         \"I need the odd prime numbers, I'll exclude 2. So the list will start \"\n         'with 3.\\n'\n         '\\n'}\n-----\n{'executable_code': {'code': 'primes = [3, 5, 7, 11, 13, 17, 19, 23, 29, 31, '\n                             '37, 41, 43, 47]\\n'\n                             'print(primes)\\n'\n                             'print(sum(primes))\\n',\n                     'language': 'PYTHON'}}\n-----\n{'code_execution_result': {'outcome': 'OUTCOME_OK',\n                           'output': '[3, 5, 7, 11, 13, 17, 19, 23, 29, 31, '\n                                     '37, 41, 43, 47]\\n'\n                                     '326\\n'}}\n-----\n{'text': 'The first 14 odd prime numbers are 3, 5, 7, 11, 13, 17, 19, 23, 29, '\n         '31, 37, 41, 43, and 47. Their sum is 326.\\n'}\n-----\n",
          "output_type": "stream"
        }
      ],
      "execution_count": null
    },
    {
      "cell_type": "markdown",
      "source": [
        "This response contains multiple parts, including an opening and closing text part that represent regular responses, an `executable_code` part that represents generated code and a `code_execution_result` part that represents the results from running the generated code.\n",
        "\n",
        "You can explore them individually."
      ],
      "metadata": {
        "id": "ZspT1GSkjG6d"
      }
    },
    {
      "cell_type": "code",
      "source": [
        "for part in response.candidates[0].content.parts:\n",
        "    if part.text:\n",
        "        display(Markdown(part.text))\n",
        "    elif part.executable_code:\n",
        "        display(Markdown(f'```python\\n{part.executable_code.code}\\n```'))\n",
        "    elif part.code_execution_result:\n",
        "        if part.code_execution_result.outcome != 'OUTCOME_OK':\n",
        "            display(Markdown(f'## Status {part.code_execution_result.outcome}'))\n",
        "\n",
        "        display(Markdown(f'```\\n{part.code_execution_result.output}\\n```'))"
      ],
      "metadata": {
        "trusted": true,
        "execution": {
          "iopub.status.busy": "2025-03-31T15:11:03.21539Z",
          "iopub.execute_input": "2025-03-31T15:11:03.215788Z",
          "iopub.status.idle": "2025-03-31T15:11:03.229032Z",
          "shell.execute_reply.started": "2025-03-31T15:11:03.21575Z",
          "shell.execute_reply": "2025-03-31T15:11:03.227925Z"
        },
        "id": "Qg8GGd_Ly9KE",
        "outputId": "294a3655-3a69-4e93-c1e2-0bfc9207ff96"
      },
      "outputs": [
        {
          "output_type": "display_data",
          "data": {
            "text/plain": "<IPython.core.display.Markdown object>",
            "text/markdown": "Okay, I can do that. First, I need to generate the first 14 odd prime numbers. Then, I will calculate their sum.\n\nThe first few prime numbers are 2, 3, 5, 7, 11, 13, and so on. Since I need the odd prime numbers, I'll exclude 2. So the list will start with 3.\n\n"
          },
          "metadata": {}
        },
        {
          "output_type": "display_data",
          "data": {
            "text/plain": "<IPython.core.display.Markdown object>",
            "text/markdown": "```python\nprimes = [3, 5, 7, 11, 13, 17, 19, 23, 29, 31, 37, 41, 43, 47]\nprint(primes)\nprint(sum(primes))\n\n```"
          },
          "metadata": {}
        },
        {
          "output_type": "display_data",
          "data": {
            "text/plain": "<IPython.core.display.Markdown object>",
            "text/markdown": "```\n[3, 5, 7, 11, 13, 17, 19, 23, 29, 31, 37, 41, 43, 47]\n326\n\n```"
          },
          "metadata": {}
        },
        {
          "output_type": "display_data",
          "data": {
            "text/plain": "<IPython.core.display.Markdown object>",
            "text/markdown": "The first 14 odd prime numbers are 3, 5, 7, 11, 13, 17, 19, 23, 29, 31, 37, 41, 43, and 47. Their sum is 326.\n"
          },
          "metadata": {}
        }
      ],
      "execution_count": null
    },
    {
      "cell_type": "markdown",
      "source": [
        "### Explaining code\n",
        "\n",
        "The Gemini family of models can explain code to you too. In this example, you pass a [bash script](https://github.com/magicmonty/bash-git-prompt) and ask some questions.\n",
        "\n",
        "<table align=left>\n",
        "  <td>\n",
        "    <a target=\"_blank\" href=\"https://aistudio.google.com/prompts/1N7LGzWzCYieyOf_7bAG4plrmkpDNmUyb\"><img src=\"https://ai.google.dev/site-assets/images/marketing/home/icon-ais.png\" style=\"height: 24px\" height=24/> Open in AI Studio</a>\n",
        "  </td>\n",
        "</table>"
      ],
      "metadata": {
        "id": "1gUX8QzCj4d5"
      }
    },
    {
      "cell_type": "code",
      "source": [
        "file_contents = !curl https://raw.githubusercontent.com/magicmonty/bash-git-prompt/refs/heads/master/gitprompt.sh\n",
        "\n",
        "explain_prompt = f\"\"\"\n",
        "Please explain what this file does at a very high level. What is it, and why would I use it?\n",
        "\n",
        "```\n",
        "{file_contents}\n",
        "```\n",
        "\"\"\"\n",
        "\n",
        "response = client.models.generate_content(\n",
        "    model='gemini-2.0-flash',\n",
        "    contents=explain_prompt)\n",
        "\n",
        "Markdown(response.text)"
      ],
      "metadata": {
        "id": "7_jPMMoxkIEb",
        "trusted": true,
        "execution": {
          "iopub.status.busy": "2025-03-31T15:11:11.334716Z",
          "iopub.execute_input": "2025-03-31T15:11:11.335104Z",
          "iopub.status.idle": "2025-03-31T15:11:13.069339Z",
          "shell.execute_reply.started": "2025-03-31T15:11:11.335072Z",
          "shell.execute_reply": "2025-03-31T15:11:13.068231Z"
        },
        "outputId": "078dffd7-e0a7-4396-bbdf-f091385b8bf8"
      },
      "outputs": [
        {
          "execution_count": 34,
          "output_type": "execute_result",
          "data": {
            "text/plain": "<IPython.core.display.Markdown object>",
            "text/markdown": "This file is a **Bash/Zsh script designed to enhance your command-line prompt with information about the current Git repository.**  It customizes the prompt to show things like:\n\n*   The current branch name.\n*   Whether there are uncommitted changes (staged, unstaged, untracked files).\n*   Whether the local branch is ahead or behind the remote branch.\n*   The state of stashes.\n*   The virtual environment.\n\n**Why would you use it?**\n\n*   **Quickly see the status of your Git repository:**  Instead of running `git status` all the time, the essential information is right there in your prompt.\n*   **Improved workflow:**  Being constantly aware of your Git status can help you avoid mistakes and stay organized.\n*   **Customization:**  It is highly configurable, allowing you to change colors, symbols, and displayed information to suit your preferences.\n*   **Cross-shell compatibility:**  The script aims to work well in both Bash and Zsh.\n\nEssentially, it makes working with Git in the command line more efficient and informative.\n"
          },
          "metadata": {}
        }
      ],
      "execution_count": null
    },
    {
      "cell_type": "markdown",
      "source": [
        "## Learn more\n",
        "\n",
        "To learn more about prompting in depth:\n",
        "\n",
        "* Check out the whitepaper issued with today's content,\n",
        "* Try out the apps listed at the top of this notebook ([TextFX](https://textfx.withgoogle.com/), [SQL Talk](https://sql-talk-r5gdynozbq-uc.a.run.app/) and [NotebookLM](https://notebooklm.google/)),\n",
        "* Read the [Introduction to Prompting](https://ai.google.dev/gemini-api/docs/prompting-intro) from the Gemini API docs,\n",
        "* Explore the Gemini API's [prompt gallery](https://ai.google.dev/gemini-api/prompts) and try them out in AI Studio,\n",
        "* Check out the Gemini API cookbook for [inspirational examples](https://github.com/google-gemini/cookbook/blob/main/examples/) and [educational quickstarts](https://github.com/google-gemini/cookbook/blob/main/quickstarts/).\n",
        "\n",
        "Be sure to check out the codelabs on day 3 too, where you will explore some more advanced prompting with code execution.\n",
        "\n",
        "And please share anything exciting you have tried in the Discord!\n",
        "\n",
        "*- [Mark McD](https://linktr.ee/markmcd)*"
      ],
      "metadata": {
        "id": "2a8266d97ce5"
      }
    }
  ]
}