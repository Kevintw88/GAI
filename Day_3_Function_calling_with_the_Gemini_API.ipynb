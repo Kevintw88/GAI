{
  "metadata": {
    "kernelspec": {
      "name": "python3",
      "display_name": "Python 3",
      "language": "python"
    },
    "language_info": {
      "name": "python",
      "version": "3.10.14",
      "mimetype": "text/x-python",
      "codemirror_mode": {
        "name": "ipython",
        "version": 3
      },
      "pygments_lexer": "ipython3",
      "nbconvert_exporter": "python",
      "file_extension": ".py"
    },
    "colab": {
      "toc_visible": true,
      "name": "Day 3 - Function calling with the Gemini API",
      "provenance": [],
      "include_colab_link": true
    },
    "kaggle": {
      "accelerator": "none",
      "dataSources": [],
      "dockerImageVersionId": 30786,
      "isInternetEnabled": true,
      "language": "python",
      "sourceType": "notebook",
      "isGpuEnabled": false
    }
  },
  "nbformat_minor": 0,
  "nbformat": 4,
  "cells": [
    {
      "cell_type": "markdown",
      "metadata": {
        "id": "view-in-github",
        "colab_type": "text"
      },
      "source": [
        "<a href=\"https://colab.research.google.com/github/Kevintw88/GAI/blob/main/Day_3_Function_calling_with_the_Gemini_API.ipynb\" target=\"_parent\"><img src=\"https://colab.research.google.com/assets/colab-badge.svg\" alt=\"Open In Colab\"/></a>"
      ]
    },
    {
      "cell_type": "markdown",
      "source": [
        "##### Copyright 2025 Google LLC."
      ],
      "metadata": {
        "id": "b6e13eef3f5d"
      }
    },
    {
      "cell_type": "code",
      "source": [
        "# @title Licensed under the Apache License, Version 2.0 (the \"License\");\n",
        "# you may not use this file except in compliance with the License.\n",
        "# You may obtain a copy of the License at\n",
        "#\n",
        "# https://www.apache.org/licenses/LICENSE-2.0\n",
        "#\n",
        "# Unless required by applicable law or agreed to in writing, software\n",
        "# distributed under the License is distributed on an \"AS IS\" BASIS,\n",
        "# WITHOUT WARRANTIES OR CONDITIONS OF ANY KIND, either express or implied.\n",
        "# See the License for the specific language governing permissions and\n",
        "# limitations under the License."
      ],
      "metadata": {
        "cellView": "form",
        "id": "d6597b11df14",
        "trusted": true,
        "execution": {
          "iopub.status.busy": "2025-04-02T09:59:13.969688Z",
          "iopub.execute_input": "2025-04-02T09:59:13.970833Z",
          "iopub.status.idle": "2025-04-02T09:59:13.975805Z",
          "shell.execute_reply.started": "2025-04-02T09:59:13.970792Z",
          "shell.execute_reply": "2025-04-02T09:59:13.974469Z"
        },
        "jupyter": {
          "source_hidden": true
        }
      },
      "outputs": [],
      "execution_count": null
    },
    {
      "cell_type": "markdown",
      "source": [
        "# Day 3 - Function calling with the Gemini API\n",
        "\n",
        "Welcome back to the Kaggle 5-day Generative AI course!\n",
        "\n",
        "In this notebook, you will use the Gemini API's automatic function calling to build a chat interface over a local database. This example is a toy and is missing a number of safety and security constraints you would use in a real-world example, but shows how to add AI chat capabilities to existing applications with ease.\n",
        "\n",
        "## For help\n",
        "\n",
        "**Common issues are covered in the [FAQ and troubleshooting guide](https://www.kaggle.com/code/markishere/day-0-troubleshooting-and-faqs).**"
      ],
      "metadata": {
        "id": "4a7d3bb68371"
      }
    },
    {
      "cell_type": "markdown",
      "source": [
        "## Setup\n",
        "\n",
        "Start by installing and importing the Python SDK."
      ],
      "metadata": {
        "id": "ea197d1d464f"
      }
    },
    {
      "cell_type": "code",
      "source": [
        "!pip uninstall -qqy jupyterlab  # Remove unused conflicting packages\n",
        "!pip install -U -q \"google-genai==1.7.0\""
      ],
      "metadata": {
        "id": "a24f42e469df",
        "trusted": true,
        "execution": {
          "iopub.status.busy": "2025-04-02T09:59:13.980732Z",
          "iopub.execute_input": "2025-04-02T09:59:13.981375Z",
          "iopub.status.idle": "2025-04-02T09:59:26.224319Z",
          "shell.execute_reply.started": "2025-04-02T09:59:13.981311Z",
          "shell.execute_reply": "2025-04-02T09:59:26.222786Z"
        }
      },
      "outputs": [],
      "execution_count": null
    },
    {
      "cell_type": "code",
      "source": [
        "from google import genai\n",
        "from google.genai import types\n",
        "\n",
        "genai.__version__"
      ],
      "metadata": {
        "id": "02bb0f551e25",
        "trusted": true,
        "execution": {
          "iopub.status.busy": "2025-04-02T09:59:26.227302Z",
          "iopub.execute_input": "2025-04-02T09:59:26.227671Z",
          "iopub.status.idle": "2025-04-02T09:59:26.236554Z",
          "shell.execute_reply.started": "2025-04-02T09:59:26.227634Z",
          "shell.execute_reply": "2025-04-02T09:59:26.235329Z"
        },
        "outputId": "92612be1-057d-4ce7-996d-6fcb5efeee50"
      },
      "outputs": [
        {
          "execution_count": 22,
          "output_type": "execute_result",
          "data": {
            "text/plain": "'1.7.0'"
          },
          "metadata": {}
        }
      ],
      "execution_count": null
    },
    {
      "cell_type": "markdown",
      "source": [
        "### Set up your API key\n",
        "\n",
        "To run the following cell, your API key must be stored it in a [Kaggle secret](https://www.kaggle.com/discussions/product-feedback/114053) named `GOOGLE_API_KEY`.\n",
        "\n",
        "If you don't already have an API key, you can grab one from [AI Studio](https://aistudio.google.com/app/apikey). You can find [detailed instructions in the docs](https://ai.google.dev/gemini-api/docs/api-key).\n",
        "\n",
        "To make the key available through Kaggle secrets, choose `Secrets` from the `Add-ons` menu and follow the instructions to add your key or enable it for this notebook."
      ],
      "metadata": {
        "id": "90e83cddff61"
      }
    },
    {
      "cell_type": "code",
      "source": [
        "from kaggle_secrets import UserSecretsClient\n",
        "\n",
        "GOOGLE_API_KEY = UserSecretsClient().get_secret(\"GOOGLE_API_KEY\")"
      ],
      "metadata": {
        "id": "5cc8325f051d",
        "trusted": true,
        "execution": {
          "iopub.status.busy": "2025-04-02T09:59:26.238014Z",
          "iopub.execute_input": "2025-04-02T09:59:26.23852Z",
          "iopub.status.idle": "2025-04-02T09:59:26.394208Z",
          "shell.execute_reply.started": "2025-04-02T09:59:26.238459Z",
          "shell.execute_reply": "2025-04-02T09:59:26.392891Z"
        }
      },
      "outputs": [],
      "execution_count": null
    },
    {
      "cell_type": "markdown",
      "source": [
        "If you received an error response along the lines of `No user secrets exist for kernel id ...`, then you need to add your API key via `Add-ons`, `Secrets` **and** enable it.\n",
        "\n",
        "![Screenshot of the checkbox to enable GOOGLE_API_KEY secret](https://storage.googleapis.com/kaggle-media/Images/5gdai_sc_3.png)"
      ],
      "metadata": {
        "id": "857b6f96eb38"
      }
    },
    {
      "cell_type": "markdown",
      "source": [
        "### Automated retry"
      ],
      "metadata": {
        "id": "3RXksM2i9U-o"
      }
    },
    {
      "cell_type": "code",
      "source": [
        "# Define a retry policy. The model might make multiple consecutive calls automatically\n",
        "# for a complex query, this ensures the client retries if it hits quota limits.\n",
        "from google.api_core import retry\n",
        "\n",
        "is_retriable = lambda e: (isinstance(e, genai.errors.APIError) and e.code in {429, 503})\n",
        "\n",
        "if not hasattr(genai.models.Models.generate_content, '__wrapped__'):\n",
        "  genai.models.Models.generate_content = retry.Retry(\n",
        "      predicate=is_retriable)(genai.models.Models.generate_content)"
      ],
      "metadata": {
        "trusted": true,
        "execution": {
          "iopub.status.busy": "2025-04-02T09:59:26.397223Z",
          "iopub.execute_input": "2025-04-02T09:59:26.397657Z",
          "iopub.status.idle": "2025-04-02T09:59:26.404697Z",
          "shell.execute_reply.started": "2025-04-02T09:59:26.397622Z",
          "shell.execute_reply": "2025-04-02T09:59:26.40322Z"
        },
        "id": "PJKGnMLo9U-p"
      },
      "outputs": [],
      "execution_count": null
    },
    {
      "cell_type": "markdown",
      "source": [
        "## Create a local database\n",
        "\n",
        "For this minimal example, you'll create a local SQLite database and add some synthetic data so you have something to query.\n",
        "\n",
        "Load the `sql` IPython extension so you can interact with the database using magic commands (the `%` instructions) to create a new, empty SQLite database."
      ],
      "metadata": {
        "id": "ed8fc6062c62"
      }
    },
    {
      "cell_type": "code",
      "source": [
        "%load_ext sql\n",
        "%sql sqlite:///sample.db"
      ],
      "metadata": {
        "id": "c98a627ef07b",
        "trusted": true,
        "execution": {
          "iopub.status.busy": "2025-04-02T09:59:26.40658Z",
          "iopub.execute_input": "2025-04-02T09:59:26.406964Z",
          "iopub.status.idle": "2025-04-02T09:59:26.420454Z",
          "shell.execute_reply.started": "2025-04-02T09:59:26.406916Z",
          "shell.execute_reply": "2025-04-02T09:59:26.418852Z"
        },
        "outputId": "7d847ab0-654a-49f7-d6ef-d4306e52eb03"
      },
      "outputs": [
        {
          "name": "stdout",
          "text": "The sql extension is already loaded. To reload it, use:\n  %reload_ext sql\n",
          "output_type": "stream"
        }
      ],
      "execution_count": null
    },
    {
      "cell_type": "markdown",
      "source": [
        "Create the tables and insert some synthetic data. Feel free to tweak this structure and data."
      ],
      "metadata": {
        "id": "14e7bc18b8af"
      }
    },
    {
      "cell_type": "code",
      "source": [
        "%%sql\n",
        "-- Create the 'products' table\n",
        "CREATE TABLE IF NOT EXISTS products (\n",
        "  \tproduct_id INTEGER PRIMARY KEY AUTOINCREMENT,\n",
        "  \tproduct_name VARCHAR(255) NOT NULL,\n",
        "  \tprice DECIMAL(10, 2) NOT NULL\n",
        "  );\n",
        "\n",
        "-- Create the 'staff' table\n",
        "CREATE TABLE IF NOT EXISTS staff (\n",
        "  \tstaff_id INTEGER PRIMARY KEY AUTOINCREMENT,\n",
        "  \tfirst_name VARCHAR(255) NOT NULL,\n",
        "  \tlast_name VARCHAR(255) NOT NULL\n",
        "  );\n",
        "\n",
        "-- Create the 'orders' table\n",
        "CREATE TABLE IF NOT EXISTS orders (\n",
        "  \torder_id INTEGER PRIMARY KEY AUTOINCREMENT,\n",
        "  \tcustomer_name VARCHAR(255) NOT NULL,\n",
        "  \tstaff_id INTEGER NOT NULL,\n",
        "  \tproduct_id INTEGER NOT NULL,\n",
        "  \tFOREIGN KEY (staff_id) REFERENCES staff (staff_id),\n",
        "  \tFOREIGN KEY (product_id) REFERENCES products (product_id)\n",
        "  );\n",
        "\n",
        "-- Insert data into the 'products' table\n",
        "INSERT INTO products (product_name, price) VALUES\n",
        "  \t('Laptop', 799.99),\n",
        "  \t('Keyboard', 129.99),\n",
        "  \t('Mouse', 29.99);\n",
        "\n",
        "-- Insert data into the 'staff' table\n",
        "INSERT INTO staff (first_name, last_name) VALUES\n",
        "  \t('Alice', 'Smith'),\n",
        "  \t('Bob', 'Johnson'),\n",
        "  \t('Charlie', 'Williams');\n",
        "\n",
        "-- Insert data into the 'orders' table\n",
        "INSERT INTO orders (customer_name, staff_id, product_id) VALUES\n",
        "  \t('David Lee', 1, 1),\n",
        "  \t('Emily Chen', 2, 2),\n",
        "  \t('Frank Brown', 1, 3);"
      ],
      "metadata": {
        "id": "4e186de46cf1",
        "trusted": true,
        "execution": {
          "iopub.status.busy": "2025-04-02T09:59:26.422332Z",
          "iopub.execute_input": "2025-04-02T09:59:26.423368Z",
          "iopub.status.idle": "2025-04-02T09:59:26.479764Z",
          "shell.execute_reply.started": "2025-04-02T09:59:26.423328Z",
          "shell.execute_reply": "2025-04-02T09:59:26.478504Z"
        },
        "outputId": "081f7035-24ae-465e-eaa0-fd1fc989e8b8"
      },
      "outputs": [
        {
          "name": "stdout",
          "text": " * sqlite:///sample.db\nDone.\nDone.\nDone.\n3 rows affected.\n3 rows affected.\n3 rows affected.\n",
          "output_type": "stream"
        },
        {
          "execution_count": 26,
          "output_type": "execute_result",
          "data": {
            "text/plain": "[]"
          },
          "metadata": {}
        }
      ],
      "execution_count": null
    },
    {
      "cell_type": "markdown",
      "source": [
        "## Define database functions\n",
        "\n",
        "Function calling with Gemini API's Python SDK can be implemented by defining [an OpenAPI schema](https://ai.google.dev/api/caching#Schema) that is passed to the model. You can also define Python functions and let the SDK inspect them to automatically define the schema. In this latter case, it's important that the functions are type annotated and have accurate docstrings that describe what the functions do - the model has no insight into the function body, so the docs function as the interface.\n",
        "\n",
        "By providing three key pieces of functionality - listing tables, describing a table, and executing a query - the LLM (much like a human user) will have the basic tools needed to understand and interrogate the database.\n",
        "\n",
        "Start with a database connection that will be used across all of the functions."
      ],
      "metadata": {
        "id": "83901899a79b"
      }
    },
    {
      "cell_type": "code",
      "source": [
        "import sqlite3\n",
        "\n",
        "db_file = \"sample.db\"\n",
        "db_conn = sqlite3.connect(db_file)"
      ],
      "metadata": {
        "id": "437168bc6b6e",
        "trusted": true,
        "execution": {
          "iopub.status.busy": "2025-04-02T09:59:26.481244Z",
          "iopub.execute_input": "2025-04-02T09:59:26.481627Z",
          "iopub.status.idle": "2025-04-02T09:59:26.488608Z",
          "shell.execute_reply.started": "2025-04-02T09:59:26.481592Z",
          "shell.execute_reply": "2025-04-02T09:59:26.487248Z"
        }
      },
      "outputs": [],
      "execution_count": null
    },
    {
      "cell_type": "markdown",
      "source": [
        "The first function will list all tables available in the database. Define it, and test it out to ensure it works."
      ],
      "metadata": {
        "id": "b68b1a2c37d9"
      }
    },
    {
      "cell_type": "code",
      "source": [
        "def list_tables() -> list[str]:\n",
        "    \"\"\"Retrieve the names of all tables in the database.\"\"\"\n",
        "    # Include print logging statements so you can see when functions are being called.\n",
        "    print(' - DB CALL: list_tables()')\n",
        "\n",
        "    cursor = db_conn.cursor()\n",
        "\n",
        "    # Fetch the table names.\n",
        "    cursor.execute(\"SELECT name FROM sqlite_master WHERE type='table';\")\n",
        "\n",
        "    tables = cursor.fetchall()\n",
        "    return [t[0] for t in tables]\n",
        "\n",
        "\n",
        "list_tables()"
      ],
      "metadata": {
        "id": "bdb0e4d2bb4b",
        "trusted": true,
        "execution": {
          "iopub.status.busy": "2025-04-02T09:59:26.490204Z",
          "iopub.execute_input": "2025-04-02T09:59:26.490641Z",
          "iopub.status.idle": "2025-04-02T09:59:26.505668Z",
          "shell.execute_reply.started": "2025-04-02T09:59:26.490606Z",
          "shell.execute_reply": "2025-04-02T09:59:26.504287Z"
        },
        "outputId": "4d9dd8fc-5c55-4643-8b85-7ee5f1d722e8"
      },
      "outputs": [
        {
          "name": "stdout",
          "text": " - DB CALL: list_tables()\n",
          "output_type": "stream"
        },
        {
          "execution_count": 28,
          "output_type": "execute_result",
          "data": {
            "text/plain": "['products', 'sqlite_sequence', 'staff', 'orders']"
          },
          "metadata": {}
        }
      ],
      "execution_count": null
    },
    {
      "cell_type": "markdown",
      "source": [
        "Once the available tables is known, the next step a database user will need is to understand what columns are available in a given table. Define that too, and test that it works as expected."
      ],
      "metadata": {
        "id": "b6c010b1b6c2"
      }
    },
    {
      "cell_type": "code",
      "source": [
        "def describe_table(table_name: str) -> list[tuple[str, str]]:\n",
        "    \"\"\"Look up the table schema.\n",
        "\n",
        "    Returns:\n",
        "      List of columns, where each entry is a tuple of (column, type).\n",
        "    \"\"\"\n",
        "    print(f' - DB CALL: describe_table({table_name})')\n",
        "\n",
        "    cursor = db_conn.cursor()\n",
        "\n",
        "    cursor.execute(f\"PRAGMA table_info({table_name});\")\n",
        "\n",
        "    schema = cursor.fetchall()\n",
        "    # [column index, column name, column type, ...]\n",
        "    return [(col[1], col[2]) for col in schema]\n",
        "\n",
        "\n",
        "describe_table(\"products\")"
      ],
      "metadata": {
        "id": "ecdb109298c4",
        "trusted": true,
        "execution": {
          "iopub.status.busy": "2025-04-02T09:59:26.507353Z",
          "iopub.execute_input": "2025-04-02T09:59:26.508627Z",
          "iopub.status.idle": "2025-04-02T09:59:26.520545Z",
          "shell.execute_reply.started": "2025-04-02T09:59:26.508566Z",
          "shell.execute_reply": "2025-04-02T09:59:26.519226Z"
        },
        "outputId": "16f0adfc-51ae-4a3c-f8ed-e1479af3ec37"
      },
      "outputs": [
        {
          "name": "stdout",
          "text": " - DB CALL: describe_table(products)\n",
          "output_type": "stream"
        },
        {
          "execution_count": 29,
          "output_type": "execute_result",
          "data": {
            "text/plain": "[('product_id', 'INTEGER'),\n ('product_name', 'VARCHAR(255)'),\n ('price', 'DECIMAL(10, 2)')]"
          },
          "metadata": {}
        }
      ],
      "execution_count": null
    },
    {
      "cell_type": "markdown",
      "source": [
        "Now that the system knows what tables and columns are present, it has enough information to be able to generate and run a `SELECT` query. Now provide that functionality, and test that it works."
      ],
      "metadata": {
        "id": "f6053a2ca272"
      }
    },
    {
      "cell_type": "code",
      "source": [
        "def execute_query(sql: str) -> list[list[str]]:\n",
        "    \"\"\"Execute an SQL statement, returning the results.\"\"\"\n",
        "    print(f' - DB CALL: execute_query({sql})')\n",
        "\n",
        "    cursor = db_conn.cursor()\n",
        "\n",
        "    cursor.execute(sql)\n",
        "    return cursor.fetchall()\n",
        "\n",
        "\n",
        "execute_query(\"select * from products\")"
      ],
      "metadata": {
        "id": "9e405db8b3f6",
        "trusted": true,
        "execution": {
          "iopub.status.busy": "2025-04-02T09:59:26.524568Z",
          "iopub.execute_input": "2025-04-02T09:59:26.525547Z",
          "iopub.status.idle": "2025-04-02T09:59:26.538228Z",
          "shell.execute_reply.started": "2025-04-02T09:59:26.525511Z",
          "shell.execute_reply": "2025-04-02T09:59:26.53715Z"
        },
        "outputId": "d6b6a6e0-11a2-4e18-9933-299117961a95"
      },
      "outputs": [
        {
          "name": "stdout",
          "text": " - DB CALL: execute_query(select * from products)\n",
          "output_type": "stream"
        },
        {
          "execution_count": 30,
          "output_type": "execute_result",
          "data": {
            "text/plain": "[(1, 'Laptop', 799.99),\n (2, 'Keyboard', 129.99),\n (3, 'Mouse', 29.99),\n (4, 'Laptop', 799.99),\n (5, 'Keyboard', 129.99),\n (6, 'Mouse', 29.99),\n (7, 'Laptop', 799.99),\n (8, 'Keyboard', 129.99),\n (9, 'Mouse', 29.99)]"
          },
          "metadata": {}
        }
      ],
      "execution_count": null
    },
    {
      "cell_type": "markdown",
      "source": [
        "## Implement function calls\n",
        "\n",
        "Now you can put it all together in a call to the Gemini API.\n",
        "\n",
        "Function calling works by adding specific messages to a chat session. When function schemas are defined and made available to the model and a conversation is started, instead of returning a text response, the model may return a `function_call` instead. When this happens, the client must respond with a `function_response`, indicating the result of the call, and the conversation can continue on as normal.\n",
        "\n",
        "This function calling interaction normally happens manually, allowing you, the client, to validate and initiate the call. However the Python SDK also supports **automatic function calling**, where the supplied functions will be automatically invoked. This is a powerful feature and should be used with care, such as when the functions have no [side-effects](https://en.wikipedia.org/wiki/Side_effect_(computer_science)).\n",
        "\n",
        "Here's the state diagram representing the conversation flow with function calling. With automatic function calling, the bottom row is executed automatically by the Python SDK. With manual function calling, you write the code to run each step individually.\n",
        "\n",
        "![function calling state diagram](https://codelabs.developers.google.com/static/codelabs/gemini-function-calling/img/gemini-function-calling-overview_1440.png)"
      ],
      "metadata": {
        "id": "ac464dfb35a0"
      }
    },
    {
      "cell_type": "code",
      "source": [
        "# These are the Python functions defined above.\n",
        "db_tools = [list_tables, describe_table, execute_query]\n",
        "\n",
        "instruction = \"\"\"You are a helpful chatbot that can interact with an SQL database\n",
        "for a computer store. You will take the users questions and turn them into SQL\n",
        "queries using the tools available. Once you have the information you need, you will\n",
        "answer the user's question using the data returned.\n",
        "\n",
        "Use list_tables to see what tables are present, describe_table to understand the\n",
        "schema, and execute_query to issue an SQL SELECT query.\"\"\"\n",
        "\n",
        "client = genai.Client(api_key=GOOGLE_API_KEY)\n",
        "\n",
        "# Start a chat with automatic function calling enabled.\n",
        "chat = client.chats.create(\n",
        "    model=\"gemini-2.0-flash\",\n",
        "    config=types.GenerateContentConfig(\n",
        "        system_instruction=instruction,\n",
        "        tools=db_tools,\n",
        "    ),\n",
        ")"
      ],
      "metadata": {
        "id": "f4839540066d",
        "trusted": true,
        "execution": {
          "iopub.status.busy": "2025-04-02T09:59:26.5396Z",
          "iopub.execute_input": "2025-04-02T09:59:26.539908Z",
          "iopub.status.idle": "2025-04-02T09:59:26.579539Z",
          "shell.execute_reply.started": "2025-04-02T09:59:26.539879Z",
          "shell.execute_reply": "2025-04-02T09:59:26.578487Z"
        }
      },
      "outputs": [],
      "execution_count": null
    },
    {
      "cell_type": "markdown",
      "source": [
        "Now you can engage in a chat conversation where you can ask about the contents of the database."
      ],
      "metadata": {
        "id": "5f120977f1ee"
      }
    },
    {
      "cell_type": "code",
      "source": [
        "resp = chat.send_message(\"What is the cheapest product?\")\n",
        "print(f\"\\n{resp.text}\")"
      ],
      "metadata": {
        "id": "111cfb79338b",
        "trusted": true,
        "execution": {
          "iopub.status.busy": "2025-04-02T09:59:26.581039Z",
          "iopub.execute_input": "2025-04-02T09:59:26.581468Z",
          "iopub.status.idle": "2025-04-02T09:59:28.353648Z",
          "shell.execute_reply.started": "2025-04-02T09:59:26.581424Z",
          "shell.execute_reply": "2025-04-02T09:59:28.352372Z"
        },
        "outputId": "d43f00c3-7eaa-451e-b2a6-f144765c4762"
      },
      "outputs": [
        {
          "name": "stdout",
          "text": " - DB CALL: list_tables()\n - DB CALL: describe_table(products)\n - DB CALL: execute_query(SELECT product_name, price FROM products ORDER BY price ASC LIMIT 1)\n\nThe cheapest product is the Mouse, which costs $29.99.\n",
          "output_type": "stream"
        }
      ],
      "execution_count": null
    },
    {
      "cell_type": "markdown",
      "source": [
        "Explore the chat session and ask your own questions. The 2.0 models are quite capable and can usually answer questions requiring multiple steps."
      ],
      "metadata": {
        "id": "d67f635191c8"
      }
    },
    {
      "cell_type": "code",
      "source": [
        "chat = client.chats.create(\n",
        "    model=\"gemini-2.0-flash\",\n",
        "    config=types.GenerateContentConfig(\n",
        "        system_instruction=instruction,\n",
        "        tools=db_tools,\n",
        "    ),\n",
        ")\n",
        "\n",
        "response = chat.send_message('What products should salesperson Alice focus on to round out her portfolio? Explain why.')\n",
        "print(f\"\\n{response.text}\")"
      ],
      "metadata": {
        "id": "647cbcc43993",
        "trusted": true,
        "execution": {
          "iopub.status.busy": "2025-04-02T09:59:28.354853Z",
          "iopub.execute_input": "2025-04-02T09:59:28.355114Z",
          "iopub.status.idle": "2025-04-02T09:59:49.905123Z",
          "shell.execute_reply.started": "2025-04-02T09:59:28.355086Z",
          "shell.execute_reply": "2025-04-02T09:59:49.903572Z"
        },
        "outputId": "cd641629-e645-49db-ee55-9a286a2acca8"
      },
      "outputs": [
        {
          "name": "stdout",
          "text": " - DB CALL: list_tables()\n - DB CALL: describe_table(staff)\n - DB CALL: list_tables()\n - DB CALL: describe_table(products)\n - DB CALL: describe_table(staff)\n - DB CALL: describe_table(orders)\n - DB CALL: execute_query(SELECT p.product_name, COUNT(o.product_id) AS sales_count FROM staff s JOIN orders o ON s.staff_id = o.staff_id JOIN products p ON o.product_id = p.product_id WHERE s.first_name = 'Alice' GROUP BY p.product_name ORDER BY sales_count ASC LIMIT 3)\n\nAlice should focus on selling more Laptops and Mice, as she has only sold 3 of each.\n",
          "output_type": "stream"
        }
      ],
      "execution_count": null
    },
    {
      "cell_type": "markdown",
      "source": [
        "### Inspecting the conversation\n",
        "\n",
        "To see the calls that the model makes, and what the client returns in response, you can inspect the chat history. This helper function will print out each turn along with the relevant fields passed or returned."
      ],
      "metadata": {
        "id": "1f5bb6d9bd6a"
      }
    },
    {
      "cell_type": "code",
      "source": [
        "import textwrap\n",
        "\n",
        "\n",
        "def print_chat_turns(chat):\n",
        "    \"\"\"Prints out each turn in the chat history, including function calls and responses.\"\"\"\n",
        "    for event in chat.get_history():\n",
        "        print(f\"{event.role.capitalize()}:\")\n",
        "\n",
        "        for part in event.parts:\n",
        "            if txt := part.text:\n",
        "                print(f'  \"{txt}\"')\n",
        "            elif fn := part.function_call:\n",
        "                args = \", \".join(f\"{key}={val}\" for key, val in fn.args.items())\n",
        "                print(f\"  Function call: {fn.name}({args})\")\n",
        "            elif resp := part.function_response:\n",
        "                print(\"  Function response:\")\n",
        "                print(textwrap.indent(str(resp.response['result']), \"    \"))\n",
        "\n",
        "        print()\n",
        "\n",
        "\n",
        "print_chat_turns(chat)"
      ],
      "metadata": {
        "id": "639963cc64e2",
        "trusted": true,
        "execution": {
          "iopub.status.busy": "2025-04-02T09:59:49.90694Z",
          "iopub.execute_input": "2025-04-02T09:59:49.907414Z",
          "iopub.status.idle": "2025-04-02T09:59:49.917838Z",
          "shell.execute_reply.started": "2025-04-02T09:59:49.907344Z",
          "shell.execute_reply": "2025-04-02T09:59:49.916495Z"
        },
        "outputId": "eb225bd4-fe5a-4fc7-995a-811cac022d40"
      },
      "outputs": [
        {
          "name": "stdout",
          "text": "User:\n  \"What products should salesperson Alice focus on to round out her portfolio? Explain why.\"\n\nModel:\n  Function call: list_tables()\n\nUser:\n  Function response:\n    ['products', 'sqlite_sequence', 'staff', 'orders']\n\nModel:\n  \"Okay, I will start by looking at the products table and the staff table.\n\"\n  Function call: describe_table(table_name=products)\n  Function call: describe_table(table_name=staff)\n\nUser:\n  Function response:\n    [('product_id', 'INTEGER'), ('product_name', 'VARCHAR(255)'), ('price', 'DECIMAL(10, 2)')]\n  Function response:\n    [('staff_id', 'INTEGER'), ('first_name', 'VARCHAR(255)'), ('last_name', 'VARCHAR(255)')]\n\nModel:\n  Function call: describe_table(table_name=orders)\n\nUser:\n  Function response:\n    [('order_id', 'INTEGER'), ('customer_name', 'VARCHAR(255)'), ('staff_id', 'INTEGER'), ('product_id', 'INTEGER')]\n\nModel:\n  \"Okay, I have the table schemas. Now I need to figure out which products Alice has sold the least of.\n\"\n  Function call: execute_query(sql=SELECT p.product_name, COUNT(o.product_id) AS sales_count FROM staff s JOIN orders o ON s.staff_id = o.staff_id JOIN products p ON o.product_id = p.product_id WHERE s.first_name = 'Alice' GROUP BY p.product_name ORDER BY sales_count ASC LIMIT 3)\n\nUser:\n  Function response:\n    [('Laptop', 3), ('Mouse', 3)]\n\nModel:\n  \"Alice should focus on selling more Laptops and Mice, as she has only sold 3 of each.\"\n\n",
          "output_type": "stream"
        }
      ],
      "execution_count": null
    },
    {
      "cell_type": "markdown",
      "source": [
        "In this output you can see each of the conversational turns that were made. Note that the model doesn't remember anything outside of the chat history, so you can make changes to the database structure or data and the model will respond without needing any code changes - try this out!"
      ],
      "metadata": {
        "id": "8a17aeb2a3ef"
      }
    },
    {
      "cell_type": "markdown",
      "source": [
        "## Compositional function calling\n",
        "\n",
        "A powerful new feature in Gemini 2.0 is the model's ability to compose user-provided function calls together while generating code.\n",
        "\n",
        "This means that the model is able to take the available tools, generate code that uses it, and execute it all.\n",
        "\n",
        "The feature requires the Live API, so this step uses different setup code than most of the examples you have seen so far. As the Multimodal Live API is a bi-directional streaming service, everything is set up in advance and then executed. This is a little more complex but the result is quite powerful.\n",
        "\n",
        "First define a function that will handle streaming model output. It will stream text output, handle tool-calling and show the generated code that the model writes and executes to fulfill the task."
      ],
      "metadata": {
        "id": "cgpHbpl_9U-x"
      }
    },
    {
      "cell_type": "code",
      "source": [
        "from pprint import pformat\n",
        "from IPython.display import display, Image, Markdown\n",
        "\n",
        "\n",
        "async def handle_response(stream, tool_impl=None):\n",
        "  \"\"\"Stream output and handle any tool calls during the session.\"\"\"\n",
        "  all_responses = []\n",
        "\n",
        "  async for msg in stream.receive():\n",
        "    all_responses.append(msg)\n",
        "\n",
        "    if text := msg.text:\n",
        "      # Output any text chunks that are streamed back.\n",
        "      if len(all_responses) < 2 or not all_responses[-2].text:\n",
        "        # Display a header if this is the first text chunk.\n",
        "        display(Markdown('### Text'))\n",
        "\n",
        "      print(text, end='')\n",
        "\n",
        "    elif tool_call := msg.tool_call:\n",
        "      # Handle tool-call requests.\n",
        "      for fc in tool_call.function_calls:\n",
        "        display(Markdown('### Tool call'))\n",
        "\n",
        "        # Execute the tool and collect the result to return to the model.\n",
        "        if callable(tool_impl):\n",
        "          try:\n",
        "            result = tool_impl(**fc.args)\n",
        "          except Exception as e:\n",
        "            result = str(e)\n",
        "        else:\n",
        "          result = 'ok'\n",
        "\n",
        "        tool_response = types.LiveClientToolResponse(\n",
        "            function_responses=[types.FunctionResponse(\n",
        "                name=fc.name,\n",
        "                id=fc.id,\n",
        "                response={'result': result},\n",
        "            )]\n",
        "        )\n",
        "        await stream.send(input=tool_response)\n",
        "\n",
        "    elif msg.server_content and msg.server_content.model_turn:\n",
        "      # Print any messages showing code the model generated and ran.\n",
        "\n",
        "      for part in msg.server_content.model_turn.parts:\n",
        "          if code := part.executable_code:\n",
        "            display(Markdown(\n",
        "                f'### Code\\n```\\n{code.code}\\n```'))\n",
        "\n",
        "          elif result := part.code_execution_result:\n",
        "            display(Markdown(f'### Result: {result.outcome}\\n'\n",
        "                             f'```\\n{pformat(result.output)}\\n```'))\n",
        "\n",
        "          elif img := part.inline_data:\n",
        "            display(Image(img.data))\n",
        "\n",
        "  print()\n",
        "  return all_responses"
      ],
      "metadata": {
        "trusted": true,
        "execution": {
          "iopub.status.busy": "2025-04-02T09:59:49.919707Z",
          "iopub.execute_input": "2025-04-02T09:59:49.920757Z",
          "iopub.status.idle": "2025-04-02T09:59:49.939937Z",
          "shell.execute_reply.started": "2025-04-02T09:59:49.920711Z",
          "shell.execute_reply": "2025-04-02T09:59:49.938733Z"
        },
        "id": "Xxyd10E-9U-y"
      },
      "outputs": [],
      "execution_count": null
    },
    {
      "cell_type": "markdown",
      "source": [
        "### Textual live database chat\n",
        "\n",
        "Now connect to the model and start a conversation.\n",
        "\n",
        "The Live API is a streaming API, so this example is fully pre-scripted and only has a single user input. Despite this, the request still requires the model to perform a bit of back-and-forth to interrogate the database, and you should see the model generate some code that uses the `execute_query` tool in a loop."
      ],
      "metadata": {
        "id": "S2a3UG5t9U-y"
      }
    },
    {
      "cell_type": "code",
      "source": [
        "model = 'gemini-2.0-flash-exp'\n",
        "live_client = genai.Client(api_key=GOOGLE_API_KEY,\n",
        "                           http_options=types.HttpOptions(api_version='v1alpha'))\n",
        "\n",
        "# Wrap the existing execute_query tool you used in the earlier example.\n",
        "execute_query_tool_def = types.FunctionDeclaration.from_callable(\n",
        "    client=live_client, callable=execute_query)\n",
        "\n",
        "# Provide the model with enough information to use the tool, such as describing\n",
        "# the database so it understands which SQL syntax to use.\n",
        "sys_int = \"\"\"You are a database interface. Use the `execute_query` function\n",
        "to answer the users questions by looking up information in the database,\n",
        "running any necessary queries and responding to the user.\n",
        "\n",
        "You need to look up table schema using sqlite3 syntax SQL, then once an\n",
        "answer is found be sure to tell the user. If the user is requesting an\n",
        "action, you must also execute the actions.\n",
        "\"\"\"\n",
        "\n",
        "config = {\n",
        "    \"response_modalities\": [\"TEXT\"],\n",
        "    \"system_instruction\": {\"parts\": [{\"text\": sys_int}]},\n",
        "    \"tools\": [\n",
        "        {\"code_execution\": {}},\n",
        "        {\"function_declarations\": [execute_query_tool_def.to_json_dict()]},\n",
        "    ],\n",
        "}\n",
        "\n",
        "async with live_client.aio.live.connect(model=model, config=config) as session:\n",
        "\n",
        "  message = \"Please generate and insert 5 new rows in the orders table.\"\n",
        "  print(f\"> {message}\\n\")\n",
        "\n",
        "  await session.send(input=message, end_of_turn=True)\n",
        "  await handle_response(session, tool_impl=execute_query)"
      ],
      "metadata": {
        "trusted": true,
        "execution": {
          "iopub.status.busy": "2025-04-02T09:59:49.941628Z",
          "iopub.execute_input": "2025-04-02T09:59:49.942032Z",
          "iopub.status.idle": "2025-04-02T09:59:55.249656Z",
          "shell.execute_reply.started": "2025-04-02T09:59:49.941985Z",
          "shell.execute_reply": "2025-04-02T09:59:55.248134Z"
        },
        "id": "krmExFF69U-y",
        "outputId": "80d0d775-1c13-4a19-dbf2-188f175502b1"
      },
      "outputs": [
        {
          "name": "stderr",
          "text": "/tmp/ipykernel_30/3415874943.py:29: ExperimentalWarning: The live API is experimental and may change in future versions.\n  async with live_client.aio.live.connect(model=model, config=config) as session:\n",
          "output_type": "stream"
        },
        {
          "name": "stdout",
          "text": "> Please generate and insert 5 new rows in the orders table.\n\n",
          "output_type": "stream"
        },
        {
          "output_type": "display_data",
          "data": {
            "text/plain": "<IPython.core.display.Markdown object>",
            "text/markdown": "### Text"
          },
          "metadata": {}
        },
        {
          "name": "stdout",
          "text": "I need to understand the structure of the `orders` table before I can insert new rows. I'll start by querying the database schema.\n",
          "output_type": "stream"
        },
        {
          "output_type": "display_data",
          "data": {
            "text/plain": "<IPython.core.display.Markdown object>",
            "text/markdown": "### Code\n```\nprint(default_api.execute_query(sql=\"PRAGMA table_info(orders);\"))\n\n```"
          },
          "metadata": {}
        },
        {
          "output_type": "display_data",
          "data": {
            "text/plain": "<IPython.core.display.Markdown object>",
            "text/markdown": "### Tool call"
          },
          "metadata": {}
        },
        {
          "name": "stdout",
          "text": " - DB CALL: execute_query(PRAGMA table_info(orders);)\n",
          "output_type": "stream"
        },
        {
          "output_type": "display_data",
          "data": {
            "text/plain": "<IPython.core.display.Markdown object>",
            "text/markdown": "### Result: OUTCOME_OK\n```\n(\"{'result': [[0, 'order_id', 'INTEGER', 0, None, 1], [1, 'customer_name', \"\n \"'VARCHAR(255)', 1, None, 0], [2, 'staff_id', 'INTEGER', 1, None, 0], [3, \"\n \"'product_id', 'INTEGER', 1, None, 0]]}\\n\")\n```"
          },
          "metadata": {}
        },
        {
          "output_type": "display_data",
          "data": {
            "text/plain": "<IPython.core.display.Markdown object>",
            "text/markdown": "### Text"
          },
          "metadata": {}
        },
        {
          "name": "stdout",
          "text": "Okay, the `orders` table has columns `order_id` (INTEGER, primary key), `customer_name` (VARCHAR(255)), `staff_id` (INTEGER), and `product_id` (INTEGER). I'll now insert 5 new rows into this table, making sure to provide values for `customer_name`, `staff_id`, and `product_id`. I will auto-increment the `order_id`.\n",
          "output_type": "stream"
        },
        {
          "output_type": "display_data",
          "data": {
            "text/plain": "<IPython.core.display.Markdown object>",
            "text/markdown": "### Code\n```\ninsert_statements = [\n    \"INSERT INTO orders (customer_name, staff_id, product_id) VALUES ('Alice Smith', 1, 101);\",\n    \"INSERT INTO orders (customer_name, staff_id, product_id) VALUES ('Bob Johnson', 2, 102);\",\n    \"INSERT INTO orders (customer_name, staff_id, product_id) VALUES ('Charlie Brown', 1, 103);\",\n    \"INSERT INTO orders (customer_name, staff_id, product_id) VALUES ('Diana Prince', 3, 104);\",\n    \"INSERT INTO orders (customer_name, staff_id, product_id) VALUES ('Eve Miller', 2, 105);\"\n]\n\nfor stmt in insert_statements:\n  print(default_api.execute_query(sql=stmt))\n\n```"
          },
          "metadata": {}
        },
        {
          "output_type": "display_data",
          "data": {
            "text/plain": "<IPython.core.display.Markdown object>",
            "text/markdown": "### Tool call"
          },
          "metadata": {}
        },
        {
          "name": "stdout",
          "text": " - DB CALL: execute_query(INSERT INTO orders (customer_name, staff_id, product_id) VALUES ('Alice Smith', 1, 101);)\n",
          "output_type": "stream"
        },
        {
          "output_type": "display_data",
          "data": {
            "text/plain": "<IPython.core.display.Markdown object>",
            "text/markdown": "### Tool call"
          },
          "metadata": {}
        },
        {
          "name": "stdout",
          "text": " - DB CALL: execute_query(INSERT INTO orders (customer_name, staff_id, product_id) VALUES ('Bob Johnson', 2, 102);)\n",
          "output_type": "stream"
        },
        {
          "output_type": "display_data",
          "data": {
            "text/plain": "<IPython.core.display.Markdown object>",
            "text/markdown": "### Tool call"
          },
          "metadata": {}
        },
        {
          "name": "stdout",
          "text": " - DB CALL: execute_query(INSERT INTO orders (customer_name, staff_id, product_id) VALUES ('Charlie Brown', 1, 103);)\n",
          "output_type": "stream"
        },
        {
          "output_type": "display_data",
          "data": {
            "text/plain": "<IPython.core.display.Markdown object>",
            "text/markdown": "### Tool call"
          },
          "metadata": {}
        },
        {
          "name": "stdout",
          "text": " - DB CALL: execute_query(INSERT INTO orders (customer_name, staff_id, product_id) VALUES ('Diana Prince', 3, 104);)\n",
          "output_type": "stream"
        },
        {
          "output_type": "display_data",
          "data": {
            "text/plain": "<IPython.core.display.Markdown object>",
            "text/markdown": "### Tool call"
          },
          "metadata": {}
        },
        {
          "name": "stdout",
          "text": " - DB CALL: execute_query(INSERT INTO orders (customer_name, staff_id, product_id) VALUES ('Eve Miller', 2, 105);)\n",
          "output_type": "stream"
        },
        {
          "output_type": "display_data",
          "data": {
            "text/plain": "<IPython.core.display.Markdown object>",
            "text/markdown": "### Result: OUTCOME_OK\n```\n(\"{'result': []}\\n\"\n \"{'result': []}\\n\"\n \"{'result': []}\\n\"\n \"{'result': []}\\n\"\n \"{'result': []}\\n\")\n```"
          },
          "metadata": {}
        },
        {
          "output_type": "display_data",
          "data": {
            "text/plain": "<IPython.core.display.Markdown object>",
            "text/markdown": "### Text"
          },
          "metadata": {}
        },
        {
          "name": "stdout",
          "text": "I have successfully inserted 5 new rows into the `orders` table.\n\n",
          "output_type": "stream"
        }
      ],
      "execution_count": null
    },
    {
      "cell_type": "markdown",
      "source": [
        "In the output from the previous step, you should see a `Code` section that shows code that the model generated in order to complete the task. It will look something like this:\n",
        "\n",
        "```py\n",
        "sql_statements = [ ... ]\n",
        "\n",
        "for sql in sql_statements:\n",
        "  print(default_api.execute_query(sql))\n",
        "```\n",
        "\n",
        "The model then runs this code (remotely), calling out to the provided tool when it reaches that part of the code. The `default_api` module contains the tools that you provided.\n",
        "\n",
        "This example simply executes in a loop, but the models are capable of more complex interactions with multiple tools, giving you a powerful agent framework that's effectively built in to the Gemini API."
      ],
      "metadata": {
        "id": "5qCsOnOx9U-z"
      }
    },
    {
      "cell_type": "markdown",
      "source": [
        "### Plotting the database\n",
        "\n",
        "Try out the built-in agent capability with the next example. You may notice the model try to guess the database schema or environment. Often the model will make mistakes, but you can look through the `Text` output and watch as the model inspects the error, tries a new approach and learns from its mistakes.\n",
        "\n",
        "If the model doesn't return a plot, try running the cell again."
      ],
      "metadata": {
        "id": "5iZNR70z9U-0"
      }
    },
    {
      "cell_type": "code",
      "source": [
        "async with live_client.aio.live.connect(model=model, config=config) as session:\n",
        "\n",
        "  message = \"Can you figure out the number of orders that were made by each of the staff?\"\n",
        "\n",
        "  print(f\"> {message}\\n\")\n",
        "  await session.send(input=message, end_of_turn=True)\n",
        "  await handle_response(session, tool_impl=execute_query)\n",
        "\n",
        "  message = \"Generate and run some code to plot this as a python seaborn chart\"\n",
        "\n",
        "  print(f\"> {message}\\n\")\n",
        "  await session.send(input=message, end_of_turn=True)\n",
        "  await handle_response(session, tool_impl=execute_query)"
      ],
      "metadata": {
        "trusted": true,
        "execution": {
          "iopub.status.busy": "2025-04-02T09:59:55.251436Z",
          "iopub.execute_input": "2025-04-02T09:59:55.251919Z",
          "iopub.status.idle": "2025-04-02T10:00:02.483478Z",
          "shell.execute_reply.started": "2025-04-02T09:59:55.251868Z",
          "shell.execute_reply": "2025-04-02T10:00:02.482315Z"
        },
        "id": "FN9am9bn9U-0",
        "outputId": "d275d194-e0a2-43f3-ae13-ec32a6c4f7c3"
      },
      "outputs": [
        {
          "name": "stdout",
          "text": "> Can you figure out the number of orders that were made by each of the staff?\n\n",
          "output_type": "stream"
        },
        {
          "output_type": "display_data",
          "data": {
            "text/plain": "<IPython.core.display.Markdown object>",
            "text/markdown": "### Code\n```\nsql_query = \"SELECT name FROM sqlite_master WHERE type='table';\"\nprint(default_api.execute_query(sql=sql_query))\n\n```"
          },
          "metadata": {}
        },
        {
          "output_type": "display_data",
          "data": {
            "text/plain": "<IPython.core.display.Markdown object>",
            "text/markdown": "### Tool call"
          },
          "metadata": {}
        },
        {
          "name": "stdout",
          "text": " - DB CALL: execute_query(SELECT name FROM sqlite_master WHERE type='table';)\n",
          "output_type": "stream"
        },
        {
          "output_type": "display_data",
          "data": {
            "text/plain": "<IPython.core.display.Markdown object>",
            "text/markdown": "### Result: OUTCOME_OK\n```\n\"{'result': [['products'], ['sqlite_sequence'], ['staff'], ['orders']]}\\n\"\n```"
          },
          "metadata": {}
        },
        {
          "output_type": "display_data",
          "data": {
            "text/plain": "<IPython.core.display.Markdown object>",
            "text/markdown": "### Text"
          },
          "metadata": {}
        },
        {
          "name": "stdout",
          "text": "Okay, I see the tables available are `products`, `staff`, and `orders`. To figure out the number of orders made by each staff, I'll need to join the `staff` and `orders` tables, probably using a staff ID. Let's inspect the schemas of both tables.\n",
          "output_type": "stream"
        },
        {
          "output_type": "display_data",
          "data": {
            "text/plain": "<IPython.core.display.Markdown object>",
            "text/markdown": "### Code\n```\nprint(default_api.execute_query(sql=\"PRAGMA table_info(staff);\"))\nprint(default_api.execute_query(sql=\"PRAGMA table_info(orders);\"))\n\n```"
          },
          "metadata": {}
        },
        {
          "output_type": "display_data",
          "data": {
            "text/plain": "<IPython.core.display.Markdown object>",
            "text/markdown": "### Tool call"
          },
          "metadata": {}
        },
        {
          "name": "stdout",
          "text": " - DB CALL: execute_query(PRAGMA table_info(staff);)\n",
          "output_type": "stream"
        },
        {
          "output_type": "display_data",
          "data": {
            "text/plain": "<IPython.core.display.Markdown object>",
            "text/markdown": "### Tool call"
          },
          "metadata": {}
        },
        {
          "name": "stdout",
          "text": " - DB CALL: execute_query(PRAGMA table_info(orders);)\n",
          "output_type": "stream"
        },
        {
          "output_type": "display_data",
          "data": {
            "text/plain": "<IPython.core.display.Markdown object>",
            "text/markdown": "### Result: OUTCOME_OK\n```\n(\"{'result': [[0, 'staff_id', 'INTEGER', 0, None, 1], [1, 'first_name', \"\n \"'VARCHAR(255)', 1, None, 0], [2, 'last_name', 'VARCHAR(255)', 1, None, 0]]}\\n\"\n \"{'result': [[0, 'order_id', 'INTEGER', 0, None, 1], [1, 'customer_name', \"\n \"'VARCHAR(255)', 1, None, 0], [2, 'staff_id', 'INTEGER', 1, None, 0], [3, \"\n \"'product_id', 'INTEGER', 1, None, 0]]}\\n\")\n```"
          },
          "metadata": {}
        },
        {
          "output_type": "display_data",
          "data": {
            "text/plain": "<IPython.core.display.Markdown object>",
            "text/markdown": "### Text"
          },
          "metadata": {}
        },
        {
          "name": "stdout",
          "text": "Okay, it seems like `staff` table has `staff_id`, `first_name`, and `last_name` columns, and the `orders` table has `order_id`, `customer_name`, `staff_id`, and `product_id`.  I can join these tables on `staff.staff_id = orders.staff_id`. Then I will group by `staff_id` and count the number of orders to fulfill the user request. I will also select `first_name` and `last_name` to show to the user.\n",
          "output_type": "stream"
        },
        {
          "output_type": "display_data",
          "data": {
            "text/plain": "<IPython.core.display.Markdown object>",
            "text/markdown": "### Code\n```\nsql_query = \"\"\"\nSELECT\n    s.first_name,\n    s.last_name,\n    COUNT(o.order_id) AS number_of_orders\nFROM\n    staff s\nJOIN\n    orders o ON s.staff_id = o.staff_id\nGROUP BY\n    s.staff_id;\n\"\"\"\nprint(default_api.execute_query(sql=sql_query))\n\n```"
          },
          "metadata": {}
        },
        {
          "output_type": "display_data",
          "data": {
            "text/plain": "<IPython.core.display.Markdown object>",
            "text/markdown": "### Tool call"
          },
          "metadata": {}
        },
        {
          "name": "stdout",
          "text": " - DB CALL: execute_query(\nSELECT\n    s.first_name,\n    s.last_name,\n    COUNT(o.order_id) AS number_of_orders\nFROM\n    staff s\nJOIN\n    orders o ON s.staff_id = o.staff_id\nGROUP BY\n    s.staff_id;\n)\n",
          "output_type": "stream"
        },
        {
          "output_type": "display_data",
          "data": {
            "text/plain": "<IPython.core.display.Markdown object>",
            "text/markdown": "### Result: OUTCOME_OK\n```\n(\"{'result': [['Alice', 'Smith', 8], ['Bob', 'Johnson', 5], ['Charlie', \"\n \"'Williams', 1]]}\\n\")\n```"
          },
          "metadata": {}
        },
        {
          "output_type": "display_data",
          "data": {
            "text/plain": "<IPython.core.display.Markdown object>",
            "text/markdown": "### Text"
          },
          "metadata": {}
        },
        {
          "name": "stdout",
          "text": "Okay, it seems like Alice Smith made 8 orders, Bob Johnson made 5 orders, and Charlie Williams made 1 order.\n\n> Generate and run some code to plot this as a python seaborn chart\n\n",
          "output_type": "stream"
        },
        {
          "output_type": "display_data",
          "data": {
            "text/plain": "<IPython.core.display.Markdown object>",
            "text/markdown": "### Code\n```\nimport pandas as pd\nimport seaborn as sns\nimport matplotlib.pyplot as plt\n\nquery_result = {'result': [['Alice', 'Smith', 8], ['Bob', 'Johnson', 5], ['Charlie', 'Williams', 1]]}\ndf = pd.DataFrame(query_result['result'], columns=['first_name', 'last_name', 'number_of_orders'])\ndf['full_name'] = df['first_name'] + ' ' + df['last_name']\n\nplt.figure(figsize=(10, 6))\nsns.barplot(x='full_name', y='number_of_orders', data=df)\nplt.xlabel('Staff Name')\nplt.ylabel('Number of Orders')\nplt.title('Number of Orders per Staff Member')\nplt.xticks(rotation=45, ha='right')\nplt.tight_layout()\nplt.show()\n\n\n```"
          },
          "metadata": {}
        },
        {
          "output_type": "display_data",
          "data": {
            "image/png": "[encoded data removed]",
            "text/plain": "<IPython.core.display.Image object>"
          },
          "metadata": {}
        },
        {
          "output_type": "display_data",
          "data": {
            "text/plain": "<IPython.core.display.Markdown object>",
            "text/markdown": "### Text"
          },
          "metadata": {}
        },
        {
          "name": "stdout",
          "text": "Okay, the plot is generated and shows the number of orders per staff member. Alice Smith has the most orders, followed by Bob Johnson, and then Charlie Williams. Is there anything else I can help you with?\n\n",
          "output_type": "stream"
        }
      ],
      "execution_count": null
    },
    {
      "cell_type": "markdown",
      "source": [
        "## Further reading\n",
        "\n",
        "To learn more about what the Gemini API can do with function calling, check out the [Function calling cookbook](https://github.com/google-gemini/cookbook/blob/main/quickstarts/Function_calling.ipynb) (see `Manual function calling` to understand how function calling works manually) as well as [Function calling config](https://github.com/google-gemini/cookbook/blob/main/quickstarts/Function_calling_config.ipynb), which gives you fine-grained control over how function calling is triggered.\n",
        "\n",
        "And stay tuned for day 4, where you will explore using function calling with grounding tools.\n",
        "\n",
        "*- [Mark McD](https://linktr.ee/markmcd)*"
      ],
      "metadata": {
        "id": "CUYzC2QX9U-7"
      }
    }
  ]
}